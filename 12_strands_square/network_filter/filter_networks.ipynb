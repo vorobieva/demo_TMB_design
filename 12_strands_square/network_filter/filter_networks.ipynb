{
 "cells": [
  {
   "cell_type": "code",
   "execution_count": 11,
   "metadata": {},
   "outputs": [],
   "source": [
    "import pandas as pd\n",
    "import matplotlib \n",
    "import matplotlib.pyplot as  plt\n",
    "import seaborn as sns\n",
    "import os\n",
    "import glob"
   ]
  },
  {
   "cell_type": "code",
   "execution_count": 2,
   "metadata": {},
   "outputs": [],
   "source": [
    "net_list = []\n",
    "with open(\"network_filter_fasol09/task.list\", 'r') as task_f:\n",
    "    for line in task_f:\n",
    "        line = line.strip()\n",
    "        net_list.append(line)\n",
    "    "
   ]
  },
  {
   "cell_type": "code",
   "execution_count": 3,
   "metadata": {},
   "outputs": [
    {
     "name": "stdout",
     "output_type": "stream",
     "text": [
      "network_filter_fasol09/filter_13_input_0076_0004_0006_0002_0006_0007_0001.pdb\n",
      "network_filter_fasol09/filter_13_input_0076_0004_0006_0002_0006_0010_0001.pdb\n",
      "network_filter_fasol09/filter_14_input_0012_0004_00014_0005_0010_0001_0001.pdb\n",
      "network_filter_fasol09/filter_14_input_0012_0004_00019_0005_0005_0003_0001.pdb\n",
      "network_filter_fasol09/filter_14_input_0012_0004_0009_0003_0003_0002_0001.pdb\n",
      "network_filter_fasol09/filter_14_input_0012_0005_00014_0005_0001_0007_0001.pdb\n",
      "network_filter_fasol09/filter_15_input_0197_0001_0003_0001_0002_0003_0001.pdb\n",
      "network_filter_fasol09/filter_15_input_0197_0001_0003_0005_0002_0009_0001.pdb\n",
      "network_filter_fasol09/filter_15_input_0197_0004_0009_0004_0002_0001_0001.pdb\n",
      "network_filter_fasol09/filter_16_input_0198_0004_00012_0004_0001_0009_0001.pdb\n",
      "network_filter_fasol09/filter_19_input_0095_0001_0004_0005_0003_0001.pdb\n",
      "network_filter_fasol09/filter_1_input_0034_0002_00010_0001_0004_0005_0001.pdb\n",
      "network_filter_fasol09/filter_1_input_0034_0002_00010_0001_0004_0010_0001.pdb\n",
      "network_filter_fasol09/filter_1_input_0034_0004_00012_0002_0009_0007_0001.pdb\n",
      "network_filter_fasol09/filter_1_input_0034_0004_00012_0002_0009_0009_0001.pdb\n",
      "network_filter_fasol09/filter_20_input_0142_0004_00017_0003_0006_0002_0001.pdb\n",
      "network_filter_fasol09/filter_24_input_0139_0005_0007_0005_0003_0002_0001.pdb\n",
      "network_filter_fasol09/filter_24_input_0139_0005_0007_0005_0003_0009_0001.pdb\n",
      "network_filter_fasol09/filter_24_input_0139_0005_0008_0001_0008_0002_0001.pdb\n",
      "network_filter_fasol09/filter_26_input_0038_0002_0009_0001_0009_0003_0001.pdb\n",
      "network_filter_fasol09/filter_29_input_0012_0003_0007_0004_0010_0001_0001.pdb\n",
      "network_filter_fasol09/filter_2_input_0154_0004_0003_0005_0007_0006_0001.pdb\n",
      "network_filter_fasol09/filter_30_input_0097_0001_0008_0003_0009_0002_0001.pdb\n",
      "network_filter_fasol09/filter_32_input_0135_0002_0005_0005_0006_0003_0001.pdb\n",
      "network_filter_fasol09/filter_34_input_0043_0004_00018_0001_0002_0001.pdb\n",
      "network_filter_fasol09/filter_34_input_0043_0004_00018_0004_0006_0002_0001.pdb\n",
      "network_filter_fasol09/filter_34_input_0043_0004_00018_0004_0006_0004_0001.pdb\n",
      "network_filter_fasol09/filter_34_input_0043_0004_00018_0004_0006_0006_0001.pdb\n",
      "network_filter_fasol09/filter_34_input_0043_0004_00018_0004_0006_0008_0001.pdb\n",
      "network_filter_fasol09/filter_37_input_0021_0002_00011_0004_0001_0004_0001.pdb\n",
      "network_filter_fasol09/filter_37_input_0021_0002_00013_0004_0003_0002_0001.pdb\n",
      "network_filter_fasol09/filter_38_input_0043_0005_0009_0003_0007_0005_0001.pdb\n",
      "network_filter_fasol09/filter_39_input_0164_0003_0005_0002_0007_0003_0001.pdb\n",
      "network_filter_fasol09/filter_39_input_0164_0004_00011_0002_0002_0005_0001.pdb\n",
      "network_filter_fasol09/filter_3_input_0121_0003_0006_0001_0010_0004_0001.pdb\n",
      "network_filter_fasol09/filter_3_input_0121_0003_0007_0002_0005_0009_0001.pdb\n",
      "network_filter_fasol09/filter_3_input_0128_0001_0006_0004_0001_0010_0001.pdb\n",
      "network_filter_fasol09/filter_43_input_0127_0003_0006_0004_0001_0004_0001.pdb\n",
      "network_filter_fasol09/filter_45_input_0090_0004_0006_0001_0004_0002_0001.pdb\n",
      "network_filter_fasol09/filter_45_input_0090_0004_0006_0001_0004_0007_0001.pdb\n",
      "network_filter_fasol09/filter_45_input_0111_0002_00011_0005_0003_0001.pdb\n",
      "network_filter_fasol09/filter_45_input_0111_0002_00011_0005_0003_0004_0001.pdb\n",
      "network_filter_fasol09/filter_45_input_0111_0002_00011_0005_0003_0006_0001.pdb\n",
      "network_filter_fasol09/filter_46_input_0014_0005_00011_0005_0003_0008_0001.pdb\n",
      "network_filter_fasol09/filter_47_input_0186_0001_0007_0005_0002_0009_0001.pdb\n",
      "network_filter_fasol09/filter_4_input_0048_0001_0009_0005_0008_0002_0001.pdb\n",
      "network_filter_fasol09/filter_4_input_0048_0001_0009_0005_0008_0010_0001.pdb\n",
      "network_filter_fasol09/filter_4_input_0048_0004_00013_0001_0006_0007_0001.pdb\n",
      "network_filter_fasol09/filter_4_input_0048_0004_00015_0002_0005_0006_0001.pdb\n",
      "network_filter_fasol09/filter_4_input_0048_0004_00019_0003_0004_0005_0001.pdb\n",
      "network_filter_fasol09/filter_4_input_0048_0004_00019_0003_0004_0008_0001.pdb\n",
      "network_filter_fasol09/filter_9_input_0062_0004_0006_0001_0004_0009_0001.pdb\n",
      "                                  description  dslf_fa13   fa_atr   fa_dun  \\\n",
      "0           0_input_0069_0003_00010_0001_0002        0.0 -915.852  216.578   \n",
      "1      0_input_0069_0003_00010_0001_0002_0001        0.0 -953.029  233.222   \n",
      "2      0_input_0069_0003_00010_0001_0002_0002        0.0 -975.813  229.000   \n",
      "3      0_input_0069_0003_00010_0001_0002_0003        0.0 -976.365  235.819   \n",
      "4      0_input_0069_0003_00010_0001_0002_0004        0.0 -973.932  217.996   \n",
      "...                                       ...        ...      ...      ...   \n",
      "10866   9_input_0062_0004_0008_0005_0004_0006        0.0 -962.136  224.180   \n",
      "10867   9_input_0062_0004_0008_0005_0004_0007        0.0 -988.498  205.804   \n",
      "10868   9_input_0062_0004_0008_0005_0004_0008        0.0 -975.815  229.947   \n",
      "10869   9_input_0062_0004_0008_0005_0004_0009        0.0 -988.246  211.727   \n",
      "10870   9_input_0062_0004_0008_0005_0004_0010        0.0 -984.781  215.959   \n",
      "\n",
      "       fa_elec  fa_intra_rep  fa_intra_sol_xover4   fa_rep   fa_sol  \\\n",
      "0     -464.330       2.03531              29.8227  113.062  659.109   \n",
      "1     -515.929       2.06844              32.1801  133.150  711.438   \n",
      "2     -506.278       2.12911              31.9551  134.915  709.198   \n",
      "3     -502.885       2.09762              32.3894  135.840  711.858   \n",
      "4     -482.742       2.12434              31.2617  137.407  680.499   \n",
      "...        ...           ...                  ...      ...      ...   \n",
      "10866 -502.146       2.13163              31.7102  142.735  702.698   \n",
      "10867 -459.556       2.24247              30.3628  154.054  648.221   \n",
      "10868 -493.860       2.14244              32.1738  141.183  700.408   \n",
      "10869 -459.610       2.17391              30.0185  140.967  658.501   \n",
      "10870 -471.712       2.17930              30.3238  146.584  666.903   \n",
      "\n",
      "       gly_holes_atm  ...  network_holes_res    omega  p_aa_pp  pro_close  \\\n",
      "0           2.057050  ...           20.20600  18.1131 -56.4253    1.47216   \n",
      "1           2.093730  ...            3.74976  21.5317 -53.5293    1.82101   \n",
      "2           0.432044  ...           19.52160  21.9491 -55.3618    1.60209   \n",
      "3           0.942705  ...           25.66450  21.9122 -54.9583    1.64181   \n",
      "4           1.691410  ...           16.99670  20.1913 -56.9977    1.68928   \n",
      "...              ...  ...                ...      ...      ...        ...   \n",
      "10866       0.754002  ...           24.70260  20.0548 -58.2212    1.65061   \n",
      "10867       0.988535  ...           24.30820  24.8132 -64.9854    1.56818   \n",
      "10868       0.068618  ...           24.91150  22.6905 -57.7250    1.79842   \n",
      "10869       0.559880  ...           18.96600  21.4504 -61.9324    1.58539   \n",
      "10870       1.280550  ...           23.17550  21.7959 -61.5066    1.43590   \n",
      "\n",
      "       rama_prepro      ref     sasa  sc_heavy_unsat    total  yhh_planarity  \n",
      "0         -2.57046  39.4318  2404.25             0.0 -601.006        1.79272  \n",
      "1         -1.58657  25.7583  2360.46             3.0 -592.617        2.04212  \n",
      "2         -1.79809  38.7459  2211.42             0.0 -610.724        2.12589  \n",
      "3         -2.87914  32.8758  2252.21             1.0 -604.565        1.98741  \n",
      "4         -1.40184  53.5225  2260.05             0.0 -603.986        2.36408  \n",
      "...            ...      ...      ...             ...      ...            ...  \n",
      "10866     -0.58963  44.7618  1991.42             1.0 -576.974        0.72779  \n",
      "10867     -5.45900  84.9540  1988.74             0.0 -595.143        1.60974  \n",
      "10868     -0.22547  45.3265  2008.06             0.0 -586.289        1.54708  \n",
      "10869     -3.74071  76.1940  1939.95             0.0 -604.003        0.73712  \n",
      "10870     -3.32410  71.2199  1996.28             0.0 -594.178        0.98817  \n",
      "\n",
      "[10871 rows x 31 columns]\n"
     ]
    }
   ],
   "source": [
    "dsc = pd.DataFrame()\n",
    "for item in net_list:\n",
    "    description = item\n",
    "    pdb_file = \"network_filter_fasol09/filter_\" + item + \"_0001.pdb\"\n",
    "    score = {}\n",
    "    labels = []\n",
    "    pose = []\n",
    "    hbnet = []\n",
    "    hbnet_pdb = \"network_filter_fasol09/\" + item + \"/\" + item + \"_0001.pdb\"\n",
    "    if os.path.isfile(hbnet_pdb):\n",
    "        with open(pdb_file, 'r') as score_f:\n",
    "            for line in score_f:\n",
    "                if line.startswith(\"#BEGIN_POSE_ENERGIES_TABLE\"):\n",
    "                    labels = score_f.readline().strip().split(' ')\n",
    "                    next(score_f)\n",
    "                    pose = score_f.readline().strip().split(' ')\n",
    "                    for i in range(1, len(labels)):\n",
    "                        score[labels[i]] = float(pose[i])\n",
    "                    for line in score_f:\n",
    "                        if \"pore\" in line:\n",
    "                            score['sasa'] = float(line.split(\" \")[1])\n",
    "                        elif \"gly_holes_atm\" in line:\n",
    "                            score['gly_holes_atm'] = float(line.split(\" \")[1])\n",
    "                        elif \"gly_holes_res\" in line:\n",
    "                            score['gly_holes_res'] = float(line.split(\" \")[1])\n",
    "                        elif \"sc_buns_hbnetA\" in line:\n",
    "                            score['sc_heavy_unsat'] = float(line.split(\" \")[1])\n",
    "                        elif \"network_holes_atm\" in line:\n",
    "                            score['network_holes_atm'] = float(line.split(\" \")[1])\n",
    "                        elif \"network_holes_res\" in line:\n",
    "                            score['network_holes_res'] = float(line.split(\" \")[1])\n",
    "        score[\"description\"] = description\n",
    "        with open(hbnet_pdb, 'r') as hbnet_f:\n",
    "            for line in hbnet_f:\n",
    "                if \"REMARK PDBinfo-LABEL:\" in line and \" HBNet\" in line:\n",
    "                    hbnet_res = int(line[21:26])\n",
    "                    hbnet.append(hbnet_res)\n",
    "        score[\"hbnet\"] = hbnet\n",
    "        score[\"n_hbnet\"] = len(hbnet)\n",
    "        if 26 in score[\"hbnet\"]:\n",
    "            score[\"hbnet_tyr26\"] = True\n",
    "        else:\n",
    "            score[\"hbnet_tyr26\"] = False\n",
    "        if 114 in score[\"hbnet\"]:\n",
    "            score[\"hbnet_tyr114\"] = True\n",
    "        else:\n",
    "            score[\"hbnet_tyr114\"] = False\n",
    "        dsc = dsc.append(score, ignore_index=True)\n",
    "    else:\n",
    "        print(pdb_file)\n",
    "print(dsc)"
   ]
  },
  {
   "cell_type": "code",
   "execution_count": 5,
   "metadata": {},
   "outputs": [
    {
     "name": "stdout",
     "output_type": "stream",
     "text": [
      "network_filter_fasol09/filter_13_input_0076_0004_0006_0002_0006_0007_0001.pdb\n",
      "network_filter_fasol09/filter_13_input_0076_0004_0006_0002_0006_0010_0001.pdb\n",
      "network_filter_fasol09/filter_14_input_0012_0004_00014_0005_0010_0001_0001.pdb\n",
      "network_filter_fasol09/filter_14_input_0012_0004_00019_0005_0005_0003_0001.pdb\n",
      "network_filter_fasol09/filter_14_input_0012_0004_0009_0003_0003_0002_0001.pdb\n",
      "network_filter_fasol09/filter_14_input_0012_0005_00014_0005_0001_0007_0001.pdb\n",
      "network_filter_fasol09/filter_15_input_0197_0001_0003_0001_0002_0003_0001.pdb\n",
      "network_filter_fasol09/filter_15_input_0197_0001_0003_0005_0002_0009_0001.pdb\n",
      "network_filter_fasol09/filter_15_input_0197_0004_0009_0004_0002_0001_0001.pdb\n",
      "network_filter_fasol09/filter_16_input_0198_0004_00012_0004_0001_0009_0001.pdb\n",
      "network_filter_fasol09/filter_19_input_0095_0001_0004_0005_0003_0001.pdb\n",
      "network_filter_fasol09/filter_1_input_0034_0002_00010_0001_0004_0005_0001.pdb\n",
      "network_filter_fasol09/filter_1_input_0034_0002_00010_0001_0004_0010_0001.pdb\n",
      "network_filter_fasol09/filter_1_input_0034_0004_00012_0002_0009_0007_0001.pdb\n",
      "network_filter_fasol09/filter_1_input_0034_0004_00012_0002_0009_0009_0001.pdb\n",
      "network_filter_fasol09/filter_20_input_0142_0004_00017_0003_0006_0002_0001.pdb\n",
      "network_filter_fasol09/filter_24_input_0139_0005_0007_0005_0003_0002_0001.pdb\n",
      "network_filter_fasol09/filter_24_input_0139_0005_0007_0005_0003_0009_0001.pdb\n",
      "network_filter_fasol09/filter_24_input_0139_0005_0008_0001_0008_0002_0001.pdb\n",
      "network_filter_fasol09/filter_26_input_0038_0002_0009_0001_0009_0003_0001.pdb\n",
      "network_filter_fasol09/filter_29_input_0012_0003_0007_0004_0010_0001_0001.pdb\n",
      "network_filter_fasol09/filter_2_input_0154_0004_0003_0005_0007_0006_0001.pdb\n",
      "network_filter_fasol09/filter_30_input_0097_0001_0008_0003_0009_0002_0001.pdb\n",
      "network_filter_fasol09/filter_32_input_0135_0002_0005_0005_0006_0003_0001.pdb\n",
      "network_filter_fasol09/filter_34_input_0043_0004_00018_0001_0002_0001.pdb\n",
      "network_filter_fasol09/filter_34_input_0043_0004_00018_0004_0006_0002_0001.pdb\n",
      "network_filter_fasol09/filter_34_input_0043_0004_00018_0004_0006_0004_0001.pdb\n",
      "network_filter_fasol09/filter_34_input_0043_0004_00018_0004_0006_0006_0001.pdb\n",
      "network_filter_fasol09/filter_34_input_0043_0004_00018_0004_0006_0008_0001.pdb\n",
      "network_filter_fasol09/filter_37_input_0021_0002_00011_0004_0001_0004_0001.pdb\n",
      "network_filter_fasol09/filter_37_input_0021_0002_00013_0004_0003_0002_0001.pdb\n",
      "network_filter_fasol09/filter_38_input_0043_0005_0009_0003_0007_0005_0001.pdb\n",
      "network_filter_fasol09/filter_39_input_0164_0003_0005_0002_0007_0003_0001.pdb\n",
      "network_filter_fasol09/filter_39_input_0164_0004_00011_0002_0002_0005_0001.pdb\n",
      "network_filter_fasol09/filter_3_input_0121_0003_0006_0001_0010_0004_0001.pdb\n",
      "network_filter_fasol09/filter_3_input_0121_0003_0007_0002_0005_0009_0001.pdb\n",
      "network_filter_fasol09/filter_3_input_0128_0001_0006_0004_0001_0010_0001.pdb\n",
      "network_filter_fasol09/filter_43_input_0127_0003_0006_0004_0001_0004_0001.pdb\n",
      "network_filter_fasol09/filter_45_input_0090_0004_0006_0001_0004_0002_0001.pdb\n",
      "network_filter_fasol09/filter_45_input_0090_0004_0006_0001_0004_0007_0001.pdb\n",
      "network_filter_fasol09/filter_45_input_0111_0002_00011_0005_0003_0001.pdb\n",
      "network_filter_fasol09/filter_45_input_0111_0002_00011_0005_0003_0004_0001.pdb\n",
      "network_filter_fasol09/filter_45_input_0111_0002_00011_0005_0003_0006_0001.pdb\n",
      "network_filter_fasol09/filter_46_input_0014_0005_00011_0005_0003_0008_0001.pdb\n",
      "network_filter_fasol09/filter_47_input_0186_0001_0007_0005_0002_0009_0001.pdb\n",
      "network_filter_fasol09/filter_4_input_0048_0001_0009_0005_0008_0002_0001.pdb\n",
      "network_filter_fasol09/filter_4_input_0048_0001_0009_0005_0008_0010_0001.pdb\n",
      "network_filter_fasol09/filter_4_input_0048_0004_00013_0001_0006_0007_0001.pdb\n",
      "network_filter_fasol09/filter_4_input_0048_0004_00015_0002_0005_0006_0001.pdb\n",
      "network_filter_fasol09/filter_4_input_0048_0004_00019_0003_0004_0005_0001.pdb\n",
      "network_filter_fasol09/filter_4_input_0048_0004_00019_0003_0004_0008_0001.pdb\n",
      "network_filter_fasol09/filter_9_input_0062_0004_0006_0001_0004_0009_0001.pdb\n",
      "                                  description  dslf_fa13   fa_atr   fa_dun  \\\n",
      "0           0_input_0069_0003_00010_0001_0002        0.0 -915.852  216.578   \n",
      "1      0_input_0069_0003_00010_0001_0002_0001        0.0 -953.029  233.222   \n",
      "2      0_input_0069_0003_00010_0001_0002_0002        0.0 -975.813  229.000   \n",
      "3      0_input_0069_0003_00010_0001_0002_0003        0.0 -976.365  235.819   \n",
      "4      0_input_0069_0003_00010_0001_0002_0004        0.0 -973.932  217.996   \n",
      "...                                       ...        ...      ...      ...   \n",
      "10866   9_input_0062_0004_0008_0005_0004_0006        0.0 -962.136  224.180   \n",
      "10867   9_input_0062_0004_0008_0005_0004_0007        0.0 -988.498  205.804   \n",
      "10868   9_input_0062_0004_0008_0005_0004_0008        0.0 -975.815  229.947   \n",
      "10869   9_input_0062_0004_0008_0005_0004_0009        0.0 -988.246  211.727   \n",
      "10870   9_input_0062_0004_0008_0005_0004_0010        0.0 -984.781  215.959   \n",
      "\n",
      "       fa_elec  fa_intra_rep  fa_intra_sol_xover4   fa_rep   fa_sol  \\\n",
      "0     -464.330       2.03531              29.8227  113.062  659.109   \n",
      "1     -515.929       2.06844              32.1801  133.150  711.438   \n",
      "2     -506.278       2.12911              31.9551  134.915  709.198   \n",
      "3     -502.885       2.09762              32.3894  135.840  711.858   \n",
      "4     -482.742       2.12434              31.2617  137.407  680.499   \n",
      "...        ...           ...                  ...      ...      ...   \n",
      "10866 -502.146       2.13163              31.7102  142.735  702.698   \n",
      "10867 -459.556       2.24247              30.3628  154.054  648.221   \n",
      "10868 -493.860       2.14244              32.1738  141.183  700.408   \n",
      "10869 -459.610       2.17391              30.0185  140.967  658.501   \n",
      "10870 -471.712       2.17930              30.3238  146.584  666.903   \n",
      "\n",
      "       gly_holes_atm  ...  network_holes_res    omega  p_aa_pp  pro_close  \\\n",
      "0           2.057050  ...           20.20600  18.1131 -56.4253    1.47216   \n",
      "1           2.093730  ...            3.74976  21.5317 -53.5293    1.82101   \n",
      "2           0.432044  ...           19.52160  21.9491 -55.3618    1.60209   \n",
      "3           0.942705  ...           25.66450  21.9122 -54.9583    1.64181   \n",
      "4           1.691410  ...           16.99670  20.1913 -56.9977    1.68928   \n",
      "...              ...  ...                ...      ...      ...        ...   \n",
      "10866       0.754002  ...           24.70260  20.0548 -58.2212    1.65061   \n",
      "10867       0.988535  ...           24.30820  24.8132 -64.9854    1.56818   \n",
      "10868       0.068618  ...           24.91150  22.6905 -57.7250    1.79842   \n",
      "10869       0.559880  ...           18.96600  21.4504 -61.9324    1.58539   \n",
      "10870       1.280550  ...           23.17550  21.7959 -61.5066    1.43590   \n",
      "\n",
      "       rama_prepro      ref     sasa  sc_heavy_unsat    total  yhh_planarity  \n",
      "0         -2.57046  39.4318  2404.25             0.0 -601.006        1.79272  \n",
      "1         -1.58657  25.7583  2360.46             3.0 -592.617        2.04212  \n",
      "2         -1.79809  38.7459  2211.42             0.0 -610.724        2.12589  \n",
      "3         -2.87914  32.8758  2252.21             1.0 -604.565        1.98741  \n",
      "4         -1.40184  53.5225  2260.05             0.0 -603.986        2.36408  \n",
      "...            ...      ...      ...             ...      ...            ...  \n",
      "10866     -0.58963  44.7618  1991.42             1.0 -576.974        0.72779  \n",
      "10867     -5.45900  84.9540  1988.74             0.0 -595.143        1.60974  \n",
      "10868     -0.22547  45.3265  2008.06             0.0 -586.289        1.54708  \n",
      "10869     -3.74071  76.1940  1939.95             0.0 -604.003        0.73712  \n",
      "10870     -3.32410  71.2199  1996.28             0.0 -594.178        0.98817  \n",
      "\n",
      "[10871 rows x 31 columns]\n"
     ]
    }
   ],
   "source": [
    "dsc = pd.DataFrame()\n",
    "for item in net_list:\n",
    "    description = item\n",
    "    pdb_file = \"network_filter_fasol09/filter_\" + item + \"_0001.pdb\"\n",
    "    score = {}\n",
    "    labels = []\n",
    "    pose = []\n",
    "    hbnet = []\n",
    "    hbnet_pdb = \"network_filter_fasol09/\" + item + \"/\" + item + \"_0001.pdb\"\n",
    "    if os.path.isfile(hbnet_pdb):\n",
    "        with open(pdb_file, 'r') as score_f:\n",
    "            for line in score_f:\n",
    "                if line.startswith(\"#BEGIN_POSE_ENERGIES_TABLE\"):\n",
    "                    labels = score_f.readline().strip().split(' ')\n",
    "                    next(score_f)\n",
    "                    pose = score_f.readline().strip().split(' ')\n",
    "                    for i in range(1, len(labels)):\n",
    "                        score[labels[i]] = float(pose[i])\n",
    "                    for line in score_f:\n",
    "                        if \"pore\" in line:\n",
    "                            score['sasa'] = float(line.split(\" \")[1])\n",
    "                        elif \"gly_holes_atm\" in line:\n",
    "                            score['gly_holes_atm'] = float(line.split(\" \")[1])\n",
    "                        elif \"gly_holes_res\" in line:\n",
    "                            score['gly_holes_res'] = float(line.split(\" \")[1])\n",
    "                        elif \"sc_buns_hbnetA\" in line:\n",
    "                            score['sc_heavy_unsat'] = float(line.split(\" \")[1])\n",
    "                        elif \"network_holes_atm\" in line:\n",
    "                            score['network_holes_atm'] = float(line.split(\" \")[1])\n",
    "                        elif \"network_holes_res\" in line:\n",
    "                            score['network_holes_res'] = float(line.split(\" \")[1])\n",
    "        score[\"description\"] = description\n",
    "        with open(hbnet_pdb, 'r') as hbnet_f:\n",
    "            for line in hbnet_f:\n",
    "                if \"REMARK PDBinfo-LABEL:\" in line and \" HBNet\" in line:\n",
    "                    hbnet_res = int(line[21:26])\n",
    "                    hbnet.append(hbnet_res)\n",
    "        score[\"hbnet\"] = hbnet\n",
    "        score[\"n_hbnet\"] = len(hbnet)\n",
    "        if 26 in score[\"hbnet\"]:\n",
    "            score[\"hbnet_tyr26\"] = True\n",
    "        else:\n",
    "            score[\"hbnet_tyr26\"] = False\n",
    "        if 114 in score[\"hbnet\"]:\n",
    "            score[\"hbnet_tyr114\"] = True\n",
    "        else:\n",
    "            score[\"hbnet_tyr114\"] = False\n",
    "        dsc = dsc.append(score, ignore_index=True)\n",
    "    else:\n",
    "        print(pdb_file)\n",
    "print(dsc)"
   ]
  },
  {
   "cell_type": "code",
   "execution_count": 29,
   "metadata": {},
   "outputs": [],
   "source": [
    "dsc.to_pickle('scores.pickle')"
   ]
  },
  {
   "cell_type": "code",
   "execution_count": 4,
   "metadata": {},
   "outputs": [],
   "source": [
    "dsc = pd.read_pickle('scores.pickle')"
   ]
  },
  {
   "cell_type": "code",
   "execution_count": 5,
   "metadata": {},
   "outputs": [
    {
     "data": {
      "text/plain": [
       "(10871, 31)"
      ]
     },
     "execution_count": 5,
     "metadata": {},
     "output_type": "execute_result"
    }
   ],
   "source": [
    "dsc = dsc.loc[(dsc[\"hbnet_tyr26\"] == True) & (dsc[\"hbnet_tyr114\"] == True)]\n",
    "dsc.shape"
   ]
  },
  {
   "cell_type": "code",
   "execution_count": 6,
   "metadata": {},
   "outputs": [
    {
     "name": "stderr",
     "output_type": "stream",
     "text": [
      "/software/conda/envs/pyrosetta/lib/python3.7/site-packages/seaborn/distributions.py:2557: FutureWarning: `distplot` is a deprecated function and will be removed in a future version. Please adapt your code to use either `displot` (a figure-level function with similar flexibility) or `histplot` (an axes-level function for histograms).\n",
      "  warnings.warn(msg, FutureWarning)\n"
     ]
    },
    {
     "data": {
      "text/plain": [
       "<matplotlib.axes._subplots.AxesSubplot at 0x7fffc85dd5d0>"
      ]
     },
     "execution_count": 6,
     "metadata": {},
     "output_type": "execute_result"
    },
    {
     "data": {
      "image/png": "[encoded data removed]",
      "text/plain": [
       "<Figure size 432x288 with 1 Axes>"
      ]
     },
     "metadata": {
      "needs_background": "light"
     },
     "output_type": "display_data"
    }
   ],
   "source": [
    "sns.distplot(dsc[\"omega\"], bins=40)"
   ]
  },
  {
   "cell_type": "code",
   "execution_count": 5,
   "metadata": {},
   "outputs": [
    {
     "name": "stderr",
     "output_type": "stream",
     "text": [
      "/software/conda/envs/pyrosetta/lib/python3.7/site-packages/seaborn/distributions.py:2557: FutureWarning: `distplot` is a deprecated function and will be removed in a future version. Please adapt your code to use either `displot` (a figure-level function with similar flexibility) or `histplot` (an axes-level function for histograms).\n",
      "  warnings.warn(msg, FutureWarning)\n"
     ]
    },
    {
     "data": {
      "text/plain": [
       "<matplotlib.axes._subplots.AxesSubplot at 0x7f7546f4ba90>"
      ]
     },
     "execution_count": 5,
     "metadata": {},
     "output_type": "execute_result"
    },
    {
     "data": {
      "image/png": "[encoded data removed]",
      "text/plain": [
       "<Figure size 432x288 with 1 Axes>"
      ]
     },
     "metadata": {
      "needs_background": "light"
     },
     "output_type": "display_data"
    }
   ],
   "source": [
    "sns.distplot(dsc[\"hbond_lr_bb\"], bins=40)"
   ]
  },
  {
   "cell_type": "code",
   "execution_count": 31,
   "metadata": {},
   "outputs": [
    {
     "name": "stderr",
     "output_type": "stream",
     "text": [
      "/software/conda/envs/pyrosetta/lib/python3.7/site-packages/seaborn/distributions.py:2557: FutureWarning: `distplot` is a deprecated function and will be removed in a future version. Please adapt your code to use either `displot` (a figure-level function with similar flexibility) or `histplot` (an axes-level function for histograms).\n",
      "  warnings.warn(msg, FutureWarning)\n"
     ]
    },
    {
     "data": {
      "text/plain": [
       "<matplotlib.axes._subplots.AxesSubplot at 0x7fffc68b1810>"
      ]
     },
     "execution_count": 31,
     "metadata": {},
     "output_type": "execute_result"
    },
    {
     "data": {
      "image/png": "[encoded data removed]",
      "text/plain": [
       "<Figure size 432x288 with 1 Axes>"
      ]
     },
     "metadata": {
      "needs_background": "light"
     },
     "output_type": "display_data"
    }
   ],
   "source": [
    "sns.distplot(dsc[\"hbond_sc\"], bins=40)"
   ]
  },
  {
   "cell_type": "code",
   "execution_count": 32,
   "metadata": {},
   "outputs": [
    {
     "name": "stderr",
     "output_type": "stream",
     "text": [
      "/software/conda/envs/pyrosetta/lib/python3.7/site-packages/seaborn/distributions.py:2557: FutureWarning: `distplot` is a deprecated function and will be removed in a future version. Please adapt your code to use either `displot` (a figure-level function with similar flexibility) or `histplot` (an axes-level function for histograms).\n",
      "  warnings.warn(msg, FutureWarning)\n"
     ]
    },
    {
     "data": {
      "text/plain": [
       "<matplotlib.axes._subplots.AxesSubplot at 0x7fffc62a4090>"
      ]
     },
     "execution_count": 32,
     "metadata": {},
     "output_type": "execute_result"
    },
    {
     "data": {
      "image/png": "[encoded data removed]",
      "text/plain": [
       "<Figure size 432x288 with 1 Axes>"
      ]
     },
     "metadata": {
      "needs_background": "light"
     },
     "output_type": "display_data"
    }
   ],
   "source": [
    "sns.distplot(dsc[\"gly_holes_atm\"], bins=40)"
   ]
  },
  {
   "cell_type": "code",
   "execution_count": 33,
   "metadata": {},
   "outputs": [
    {
     "name": "stderr",
     "output_type": "stream",
     "text": [
      "/software/conda/envs/pyrosetta/lib/python3.7/site-packages/seaborn/distributions.py:2557: FutureWarning: `distplot` is a deprecated function and will be removed in a future version. Please adapt your code to use either `displot` (a figure-level function with similar flexibility) or `histplot` (an axes-level function for histograms).\n",
      "  warnings.warn(msg, FutureWarning)\n"
     ]
    },
    {
     "data": {
      "text/plain": [
       "<matplotlib.axes._subplots.AxesSubplot at 0x7fffc6140bd0>"
      ]
     },
     "execution_count": 33,
     "metadata": {},
     "output_type": "execute_result"
    },
    {
     "data": {
      "image/png": "[encoded data removed]",
      "text/plain": [
       "<Figure size 432x288 with 1 Axes>"
      ]
     },
     "metadata": {
      "needs_background": "light"
     },
     "output_type": "display_data"
    }
   ],
   "source": [
    "sns.distplot(dsc[\"gly_holes_res\"], bins=40)"
   ]
  },
  {
   "cell_type": "code",
   "execution_count": 34,
   "metadata": {},
   "outputs": [
    {
     "name": "stderr",
     "output_type": "stream",
     "text": [
      "/software/conda/envs/pyrosetta/lib/python3.7/site-packages/seaborn/distributions.py:2557: FutureWarning: `distplot` is a deprecated function and will be removed in a future version. Please adapt your code to use either `displot` (a figure-level function with similar flexibility) or `histplot` (an axes-level function for histograms).\n",
      "  warnings.warn(msg, FutureWarning)\n"
     ]
    },
    {
     "data": {
      "text/plain": [
       "<matplotlib.axes._subplots.AxesSubplot at 0x7fffc60cf8d0>"
      ]
     },
     "execution_count": 34,
     "metadata": {},
     "output_type": "execute_result"
    },
    {
     "data": {
      "image/png": "[encoded data removed]",
      "text/plain": [
       "<Figure size 432x288 with 1 Axes>"
      ]
     },
     "metadata": {
      "needs_background": "light"
     },
     "output_type": "display_data"
    }
   ],
   "source": [
    "sns.distplot(dsc[\"network_holes_atm\"], bins=40)\n"
   ]
  },
  {
   "cell_type": "code",
   "execution_count": 35,
   "metadata": {},
   "outputs": [
    {
     "name": "stderr",
     "output_type": "stream",
     "text": [
      "/software/conda/envs/pyrosetta/lib/python3.7/site-packages/seaborn/distributions.py:2557: FutureWarning: `distplot` is a deprecated function and will be removed in a future version. Please adapt your code to use either `displot` (a figure-level function with similar flexibility) or `histplot` (an axes-level function for histograms).\n",
      "  warnings.warn(msg, FutureWarning)\n"
     ]
    },
    {
     "data": {
      "text/plain": [
       "<matplotlib.axes._subplots.AxesSubplot at 0x7fffc5fb5790>"
      ]
     },
     "execution_count": 35,
     "metadata": {},
     "output_type": "execute_result"
    },
    {
     "data": {
      "image/png": "[encoded data removed]",
      "text/plain": [
       "<Figure size 432x288 with 1 Axes>"
      ]
     },
     "metadata": {
      "needs_background": "light"
     },
     "output_type": "display_data"
    }
   ],
   "source": [
    "sns.distplot(dsc[\"network_holes_res\"], bins=40)"
   ]
  },
  {
   "cell_type": "code",
   "execution_count": 36,
   "metadata": {},
   "outputs": [
    {
     "name": "stderr",
     "output_type": "stream",
     "text": [
      "/software/conda/envs/pyrosetta/lib/python3.7/site-packages/seaborn/distributions.py:2557: FutureWarning: `distplot` is a deprecated function and will be removed in a future version. Please adapt your code to use either `displot` (a figure-level function with similar flexibility) or `histplot` (an axes-level function for histograms).\n",
      "  warnings.warn(msg, FutureWarning)\n"
     ]
    },
    {
     "data": {
      "text/plain": [
       "<matplotlib.axes._subplots.AxesSubplot at 0x7fffc5f24550>"
      ]
     },
     "execution_count": 36,
     "metadata": {},
     "output_type": "execute_result"
    },
    {
     "data": {
      "image/png": "[encoded data removed]",
      "text/plain": [
       "<Figure size 432x288 with 1 Axes>"
      ]
     },
     "metadata": {
      "needs_background": "light"
     },
     "output_type": "display_data"
    }
   ],
   "source": [
    "sns.distplot(dsc[\"sasa\"], bins=40)"
   ]
  },
  {
   "cell_type": "code",
   "execution_count": 37,
   "metadata": {},
   "outputs": [
    {
     "name": "stderr",
     "output_type": "stream",
     "text": [
      "/software/conda/envs/pyrosetta/lib/python3.7/site-packages/seaborn/_decorators.py:43: FutureWarning: Pass the following variable as a keyword arg: x. From version 0.12, the only valid positional argument will be `data`, and passing other arguments without an explicit keyword will result in an error or misinterpretation.\n",
      "  FutureWarning\n"
     ]
    },
    {
     "data": {
      "text/plain": [
       "<matplotlib.axes._subplots.AxesSubplot at 0x7fffc811b4d0>"
      ]
     },
     "execution_count": 37,
     "metadata": {},
     "output_type": "execute_result"
    },
    {
     "data": {
      "image/png": "[encoded data removed]",
      "text/plain": [
       "<Figure size 432x288 with 1 Axes>"
      ]
     },
     "metadata": {
      "needs_background": "light"
     },
     "output_type": "display_data"
    }
   ],
   "source": [
    "sns.countplot(dsc[\"sc_heavy_unsat\"])"
   ]
  },
  {
   "cell_type": "code",
   "execution_count": 39,
   "metadata": {},
   "outputs": [
    {
     "data": {
      "text/html": [
       "<div>\n",
       "<style scoped>\n",
       "    .dataframe tbody tr th:only-of-type {\n",
       "        vertical-align: middle;\n",
       "    }\n",
       "\n",
       "    .dataframe tbody tr th {\n",
       "        vertical-align: top;\n",
       "    }\n",
       "\n",
       "    .dataframe thead th {\n",
       "        text-align: right;\n",
       "    }\n",
       "</style>\n",
       "<table border=\"1\" class=\"dataframe\">\n",
       "  <thead>\n",
       "    <tr style=\"text-align: right;\">\n",
       "      <th></th>\n",
       "      <th>description</th>\n",
       "      <th>dslf_fa13</th>\n",
       "      <th>fa_atr</th>\n",
       "      <th>fa_dun</th>\n",
       "      <th>fa_elec</th>\n",
       "      <th>fa_intra_rep</th>\n",
       "      <th>fa_intra_sol_xover4</th>\n",
       "      <th>fa_rep</th>\n",
       "      <th>fa_sol</th>\n",
       "      <th>gly_holes_atm</th>\n",
       "      <th>...</th>\n",
       "      <th>network_holes_res</th>\n",
       "      <th>omega</th>\n",
       "      <th>p_aa_pp</th>\n",
       "      <th>pro_close</th>\n",
       "      <th>rama_prepro</th>\n",
       "      <th>ref</th>\n",
       "      <th>sasa</th>\n",
       "      <th>sc_heavy_unsat</th>\n",
       "      <th>total</th>\n",
       "      <th>yhh_planarity</th>\n",
       "    </tr>\n",
       "  </thead>\n",
       "  <tbody>\n",
       "    <tr>\n",
       "      <th>282</th>\n",
       "      <td>10_input_0055_0003_0003_0003_0006_0007</td>\n",
       "      <td>0.0</td>\n",
       "      <td>-964.026</td>\n",
       "      <td>208.684</td>\n",
       "      <td>-471.648</td>\n",
       "      <td>2.08681</td>\n",
       "      <td>32.4575</td>\n",
       "      <td>140.793</td>\n",
       "      <td>661.001</td>\n",
       "      <td>1.212850</td>\n",
       "      <td>...</td>\n",
       "      <td>25.2998</td>\n",
       "      <td>20.3468</td>\n",
       "      <td>-54.6250</td>\n",
       "      <td>0.80331</td>\n",
       "      <td>2.08936</td>\n",
       "      <td>67.9495</td>\n",
       "      <td>2576.18</td>\n",
       "      <td>0.0</td>\n",
       "      <td>-590.599</td>\n",
       "      <td>0.99911</td>\n",
       "    </tr>\n",
       "    <tr>\n",
       "      <th>8970</th>\n",
       "      <td>45_input_0111_0002_00011_0005_0003_0002</td>\n",
       "      <td>0.0</td>\n",
       "      <td>-959.709</td>\n",
       "      <td>206.522</td>\n",
       "      <td>-482.519</td>\n",
       "      <td>2.10357</td>\n",
       "      <td>30.7067</td>\n",
       "      <td>143.476</td>\n",
       "      <td>668.449</td>\n",
       "      <td>0.418114</td>\n",
       "      <td>...</td>\n",
       "      <td>34.5567</td>\n",
       "      <td>19.7804</td>\n",
       "      <td>-61.3035</td>\n",
       "      <td>1.23126</td>\n",
       "      <td>0.82745</td>\n",
       "      <td>67.3789</td>\n",
       "      <td>2534.36</td>\n",
       "      <td>0.0</td>\n",
       "      <td>-589.962</td>\n",
       "      <td>1.71246</td>\n",
       "    </tr>\n",
       "    <tr>\n",
       "      <th>3867</th>\n",
       "      <td>21_input_0164_0003_0004_0003_0007</td>\n",
       "      <td>0.0</td>\n",
       "      <td>-912.105</td>\n",
       "      <td>208.984</td>\n",
       "      <td>-439.118</td>\n",
       "      <td>2.04872</td>\n",
       "      <td>31.4277</td>\n",
       "      <td>117.124</td>\n",
       "      <td>646.322</td>\n",
       "      <td>1.035820</td>\n",
       "      <td>...</td>\n",
       "      <td>29.8432</td>\n",
       "      <td>18.0054</td>\n",
       "      <td>-59.4595</td>\n",
       "      <td>1.51961</td>\n",
       "      <td>0.38583</td>\n",
       "      <td>47.6406</td>\n",
       "      <td>2532.04</td>\n",
       "      <td>1.0</td>\n",
       "      <td>-585.526</td>\n",
       "      <td>0.85417</td>\n",
       "    </tr>\n",
       "    <tr>\n",
       "      <th>9530</th>\n",
       "      <td>47_input_0186_0001_00011_0005_0008_0004</td>\n",
       "      <td>0.0</td>\n",
       "      <td>-950.314</td>\n",
       "      <td>211.448</td>\n",
       "      <td>-489.202</td>\n",
       "      <td>2.12863</td>\n",
       "      <td>32.7233</td>\n",
       "      <td>130.506</td>\n",
       "      <td>693.071</td>\n",
       "      <td>1.888950</td>\n",
       "      <td>...</td>\n",
       "      <td>15.9627</td>\n",
       "      <td>19.0379</td>\n",
       "      <td>-57.6202</td>\n",
       "      <td>0.91582</td>\n",
       "      <td>-3.73583</td>\n",
       "      <td>53.7761</td>\n",
       "      <td>2498.19</td>\n",
       "      <td>1.0</td>\n",
       "      <td>-591.143</td>\n",
       "      <td>1.67787</td>\n",
       "    </tr>\n",
       "    <tr>\n",
       "      <th>5122</th>\n",
       "      <td>27_input_0084_0004_0008_0005_0001_0005</td>\n",
       "      <td>0.0</td>\n",
       "      <td>-948.884</td>\n",
       "      <td>220.235</td>\n",
       "      <td>-483.696</td>\n",
       "      <td>2.05282</td>\n",
       "      <td>32.1088</td>\n",
       "      <td>130.417</td>\n",
       "      <td>698.482</td>\n",
       "      <td>1.540490</td>\n",
       "      <td>...</td>\n",
       "      <td>10.1223</td>\n",
       "      <td>20.5489</td>\n",
       "      <td>-58.1091</td>\n",
       "      <td>0.81555</td>\n",
       "      <td>-1.77698</td>\n",
       "      <td>36.2783</td>\n",
       "      <td>2490.46</td>\n",
       "      <td>0.0</td>\n",
       "      <td>-585.360</td>\n",
       "      <td>1.02641</td>\n",
       "    </tr>\n",
       "    <tr>\n",
       "      <th>8268</th>\n",
       "      <td>43_input_0013_0004_0006_0005_0010</td>\n",
       "      <td>0.0</td>\n",
       "      <td>-940.863</td>\n",
       "      <td>201.276</td>\n",
       "      <td>-442.453</td>\n",
       "      <td>2.09579</td>\n",
       "      <td>31.4729</td>\n",
       "      <td>121.651</td>\n",
       "      <td>645.945</td>\n",
       "      <td>0.932895</td>\n",
       "      <td>...</td>\n",
       "      <td>16.0341</td>\n",
       "      <td>19.8180</td>\n",
       "      <td>-60.5673</td>\n",
       "      <td>1.19349</td>\n",
       "      <td>-2.82668</td>\n",
       "      <td>65.0491</td>\n",
       "      <td>2486.98</td>\n",
       "      <td>0.0</td>\n",
       "      <td>-611.263</td>\n",
       "      <td>0.94276</td>\n",
       "    </tr>\n",
       "    <tr>\n",
       "      <th>8305</th>\n",
       "      <td>43_input_0013_0004_0007_0004_0005_0004</td>\n",
       "      <td>0.0</td>\n",
       "      <td>-969.125</td>\n",
       "      <td>221.988</td>\n",
       "      <td>-499.193</td>\n",
       "      <td>2.08080</td>\n",
       "      <td>34.7215</td>\n",
       "      <td>138.773</td>\n",
       "      <td>705.098</td>\n",
       "      <td>1.546580</td>\n",
       "      <td>...</td>\n",
       "      <td>13.0772</td>\n",
       "      <td>22.6763</td>\n",
       "      <td>-55.6690</td>\n",
       "      <td>0.87914</td>\n",
       "      <td>-2.81315</td>\n",
       "      <td>37.5563</td>\n",
       "      <td>2484.78</td>\n",
       "      <td>1.0</td>\n",
       "      <td>-599.800</td>\n",
       "      <td>0.86635</td>\n",
       "    </tr>\n",
       "    <tr>\n",
       "      <th>8112</th>\n",
       "      <td>3_input_0128_0001_0007_0002_0010_0009</td>\n",
       "      <td>0.0</td>\n",
       "      <td>-977.515</td>\n",
       "      <td>215.328</td>\n",
       "      <td>-497.313</td>\n",
       "      <td>2.08429</td>\n",
       "      <td>33.2714</td>\n",
       "      <td>138.779</td>\n",
       "      <td>702.600</td>\n",
       "      <td>0.585895</td>\n",
       "      <td>...</td>\n",
       "      <td>23.8999</td>\n",
       "      <td>20.8002</td>\n",
       "      <td>-53.3188</td>\n",
       "      <td>1.24976</td>\n",
       "      <td>0.08048</td>\n",
       "      <td>41.5469</td>\n",
       "      <td>2459.71</td>\n",
       "      <td>0.0</td>\n",
       "      <td>-605.380</td>\n",
       "      <td>2.36967</td>\n",
       "    </tr>\n",
       "    <tr>\n",
       "      <th>3447</th>\n",
       "      <td>20_input_0124_0004_0005_0005_0009_0008</td>\n",
       "      <td>0.0</td>\n",
       "      <td>-978.858</td>\n",
       "      <td>204.201</td>\n",
       "      <td>-482.390</td>\n",
       "      <td>2.12717</td>\n",
       "      <td>31.4780</td>\n",
       "      <td>139.896</td>\n",
       "      <td>676.730</td>\n",
       "      <td>2.064200</td>\n",
       "      <td>...</td>\n",
       "      <td>36.9993</td>\n",
       "      <td>18.5909</td>\n",
       "      <td>-54.9988</td>\n",
       "      <td>0.97201</td>\n",
       "      <td>1.30640</td>\n",
       "      <td>66.0136</td>\n",
       "      <td>2452.51</td>\n",
       "      <td>0.0</td>\n",
       "      <td>-613.557</td>\n",
       "      <td>1.22574</td>\n",
       "    </tr>\n",
       "    <tr>\n",
       "      <th>5073</th>\n",
       "      <td>27_input_0084_0004_0006_0005_0003</td>\n",
       "      <td>0.0</td>\n",
       "      <td>-937.905</td>\n",
       "      <td>196.479</td>\n",
       "      <td>-418.929</td>\n",
       "      <td>2.14307</td>\n",
       "      <td>30.9279</td>\n",
       "      <td>123.711</td>\n",
       "      <td>618.550</td>\n",
       "      <td>1.491890</td>\n",
       "      <td>...</td>\n",
       "      <td>44.1886</td>\n",
       "      <td>15.0025</td>\n",
       "      <td>-65.2060</td>\n",
       "      <td>0.74038</td>\n",
       "      <td>-6.92281</td>\n",
       "      <td>72.1118</td>\n",
       "      <td>2451.90</td>\n",
       "      <td>1.0</td>\n",
       "      <td>-604.119</td>\n",
       "      <td>0.54134</td>\n",
       "    </tr>\n",
       "  </tbody>\n",
       "</table>\n",
       "<p>10 rows × 31 columns</p>\n",
       "</div>"
      ],
      "text/plain": [
       "                                  description  dslf_fa13   fa_atr   fa_dun  \\\n",
       "282    10_input_0055_0003_0003_0003_0006_0007        0.0 -964.026  208.684   \n",
       "8970  45_input_0111_0002_00011_0005_0003_0002        0.0 -959.709  206.522   \n",
       "3867        21_input_0164_0003_0004_0003_0007        0.0 -912.105  208.984   \n",
       "9530  47_input_0186_0001_00011_0005_0008_0004        0.0 -950.314  211.448   \n",
       "5122   27_input_0084_0004_0008_0005_0001_0005        0.0 -948.884  220.235   \n",
       "8268        43_input_0013_0004_0006_0005_0010        0.0 -940.863  201.276   \n",
       "8305   43_input_0013_0004_0007_0004_0005_0004        0.0 -969.125  221.988   \n",
       "8112    3_input_0128_0001_0007_0002_0010_0009        0.0 -977.515  215.328   \n",
       "3447   20_input_0124_0004_0005_0005_0009_0008        0.0 -978.858  204.201   \n",
       "5073        27_input_0084_0004_0006_0005_0003        0.0 -937.905  196.479   \n",
       "\n",
       "      fa_elec  fa_intra_rep  fa_intra_sol_xover4   fa_rep   fa_sol  \\\n",
       "282  -471.648       2.08681              32.4575  140.793  661.001   \n",
       "8970 -482.519       2.10357              30.7067  143.476  668.449   \n",
       "3867 -439.118       2.04872              31.4277  117.124  646.322   \n",
       "9530 -489.202       2.12863              32.7233  130.506  693.071   \n",
       "5122 -483.696       2.05282              32.1088  130.417  698.482   \n",
       "8268 -442.453       2.09579              31.4729  121.651  645.945   \n",
       "8305 -499.193       2.08080              34.7215  138.773  705.098   \n",
       "8112 -497.313       2.08429              33.2714  138.779  702.600   \n",
       "3447 -482.390       2.12717              31.4780  139.896  676.730   \n",
       "5073 -418.929       2.14307              30.9279  123.711  618.550   \n",
       "\n",
       "      gly_holes_atm  ...  network_holes_res    omega  p_aa_pp  pro_close  \\\n",
       "282        1.212850  ...            25.2998  20.3468 -54.6250    0.80331   \n",
       "8970       0.418114  ...            34.5567  19.7804 -61.3035    1.23126   \n",
       "3867       1.035820  ...            29.8432  18.0054 -59.4595    1.51961   \n",
       "9530       1.888950  ...            15.9627  19.0379 -57.6202    0.91582   \n",
       "5122       1.540490  ...            10.1223  20.5489 -58.1091    0.81555   \n",
       "8268       0.932895  ...            16.0341  19.8180 -60.5673    1.19349   \n",
       "8305       1.546580  ...            13.0772  22.6763 -55.6690    0.87914   \n",
       "8112       0.585895  ...            23.8999  20.8002 -53.3188    1.24976   \n",
       "3447       2.064200  ...            36.9993  18.5909 -54.9988    0.97201   \n",
       "5073       1.491890  ...            44.1886  15.0025 -65.2060    0.74038   \n",
       "\n",
       "      rama_prepro      ref     sasa  sc_heavy_unsat    total  yhh_planarity  \n",
       "282       2.08936  67.9495  2576.18             0.0 -590.599        0.99911  \n",
       "8970      0.82745  67.3789  2534.36             0.0 -589.962        1.71246  \n",
       "3867      0.38583  47.6406  2532.04             1.0 -585.526        0.85417  \n",
       "9530     -3.73583  53.7761  2498.19             1.0 -591.143        1.67787  \n",
       "5122     -1.77698  36.2783  2490.46             0.0 -585.360        1.02641  \n",
       "8268     -2.82668  65.0491  2486.98             0.0 -611.263        0.94276  \n",
       "8305     -2.81315  37.5563  2484.78             1.0 -599.800        0.86635  \n",
       "8112      0.08048  41.5469  2459.71             0.0 -605.380        2.36967  \n",
       "3447      1.30640  66.0136  2452.51             0.0 -613.557        1.22574  \n",
       "5073     -6.92281  72.1118  2451.90             1.0 -604.119        0.54134  \n",
       "\n",
       "[10 rows x 31 columns]"
      ]
     },
     "execution_count": 39,
     "metadata": {},
     "output_type": "execute_result"
    }
   ],
   "source": [
    "dsc.nlargest(10, 'sasa')"
   ]
  },
  {
   "cell_type": "code",
   "execution_count": 126,
   "metadata": {},
   "outputs": [
    {
     "data": {
      "text/html": [
       "<div>\n",
       "<style scoped>\n",
       "    .dataframe tbody tr th:only-of-type {\n",
       "        vertical-align: middle;\n",
       "    }\n",
       "\n",
       "    .dataframe tbody tr th {\n",
       "        vertical-align: top;\n",
       "    }\n",
       "\n",
       "    .dataframe thead th {\n",
       "        text-align: right;\n",
       "    }\n",
       "</style>\n",
       "<table border=\"1\" class=\"dataframe\">\n",
       "  <thead>\n",
       "    <tr style=\"text-align: right;\">\n",
       "      <th></th>\n",
       "      <th>description</th>\n",
       "      <th>dslf_fa13</th>\n",
       "      <th>fa_atr</th>\n",
       "      <th>fa_dun</th>\n",
       "      <th>fa_elec</th>\n",
       "      <th>fa_intra_rep</th>\n",
       "      <th>fa_intra_sol_xover4</th>\n",
       "      <th>fa_rep</th>\n",
       "      <th>fa_sol</th>\n",
       "      <th>gly_holes_atm</th>\n",
       "      <th>...</th>\n",
       "      <th>network_holes_res</th>\n",
       "      <th>omega</th>\n",
       "      <th>p_aa_pp</th>\n",
       "      <th>pro_close</th>\n",
       "      <th>rama_prepro</th>\n",
       "      <th>ref</th>\n",
       "      <th>sasa</th>\n",
       "      <th>sc_heavy_unsat</th>\n",
       "      <th>total</th>\n",
       "      <th>yhh_planarity</th>\n",
       "    </tr>\n",
       "  </thead>\n",
       "  <tbody>\n",
       "    <tr>\n",
       "      <th>324</th>\n",
       "      <td>10__input_0109_0003_2_0002</td>\n",
       "      <td>0.0</td>\n",
       "      <td>-632.010</td>\n",
       "      <td>142.613</td>\n",
       "      <td>-369.197</td>\n",
       "      <td>1.34975</td>\n",
       "      <td>22.8569</td>\n",
       "      <td>103.8260</td>\n",
       "      <td>472.057</td>\n",
       "      <td>1.460300</td>\n",
       "      <td>...</td>\n",
       "      <td>18.261200</td>\n",
       "      <td>20.2096</td>\n",
       "      <td>-46.6875</td>\n",
       "      <td>1.73925</td>\n",
       "      <td>8.05503</td>\n",
       "      <td>39.2019</td>\n",
       "      <td>345.966</td>\n",
       "      <td>3.0</td>\n",
       "      <td>-358.506</td>\n",
       "      <td>0.00990</td>\n",
       "    </tr>\n",
       "    <tr>\n",
       "      <th>253</th>\n",
       "      <td>10__input_0109_0001_1_0003_0008_0002</td>\n",
       "      <td>0.0</td>\n",
       "      <td>-651.449</td>\n",
       "      <td>160.488</td>\n",
       "      <td>-357.602</td>\n",
       "      <td>1.43634</td>\n",
       "      <td>23.8905</td>\n",
       "      <td>110.4630</td>\n",
       "      <td>470.045</td>\n",
       "      <td>1.252200</td>\n",
       "      <td>...</td>\n",
       "      <td>0.896044</td>\n",
       "      <td>23.8937</td>\n",
       "      <td>-45.9709</td>\n",
       "      <td>1.39546</td>\n",
       "      <td>8.45724</td>\n",
       "      <td>37.5580</td>\n",
       "      <td>356.782</td>\n",
       "      <td>1.0</td>\n",
       "      <td>-345.642</td>\n",
       "      <td>1.39019</td>\n",
       "    </tr>\n",
       "    <tr>\n",
       "      <th>7473</th>\n",
       "      <td>37__input_0004_0001_8_0002_0010_0003</td>\n",
       "      <td>0.0</td>\n",
       "      <td>-657.622</td>\n",
       "      <td>143.850</td>\n",
       "      <td>-346.552</td>\n",
       "      <td>1.35837</td>\n",
       "      <td>24.5025</td>\n",
       "      <td>101.6180</td>\n",
       "      <td>490.597</td>\n",
       "      <td>0.434910</td>\n",
       "      <td>...</td>\n",
       "      <td>-11.646700</td>\n",
       "      <td>22.2169</td>\n",
       "      <td>-47.6282</td>\n",
       "      <td>0.97466</td>\n",
       "      <td>4.47806</td>\n",
       "      <td>33.7854</td>\n",
       "      <td>357.516</td>\n",
       "      <td>3.0</td>\n",
       "      <td>-363.318</td>\n",
       "      <td>1.14100</td>\n",
       "    </tr>\n",
       "    <tr>\n",
       "      <th>3766</th>\n",
       "      <td>20__input_0147_0005_1_0003_0007_0003</td>\n",
       "      <td>0.0</td>\n",
       "      <td>-679.824</td>\n",
       "      <td>153.735</td>\n",
       "      <td>-351.913</td>\n",
       "      <td>1.34223</td>\n",
       "      <td>25.2517</td>\n",
       "      <td>108.2050</td>\n",
       "      <td>492.283</td>\n",
       "      <td>0.575256</td>\n",
       "      <td>...</td>\n",
       "      <td>10.528900</td>\n",
       "      <td>22.6959</td>\n",
       "      <td>-49.1420</td>\n",
       "      <td>1.62486</td>\n",
       "      <td>8.66772</td>\n",
       "      <td>31.7279</td>\n",
       "      <td>357.608</td>\n",
       "      <td>2.0</td>\n",
       "      <td>-376.518</td>\n",
       "      <td>2.28524</td>\n",
       "    </tr>\n",
       "    <tr>\n",
       "      <th>3772</th>\n",
       "      <td>20__input_0147_0005_1_0003_0007_0009</td>\n",
       "      <td>0.0</td>\n",
       "      <td>-666.181</td>\n",
       "      <td>153.471</td>\n",
       "      <td>-362.121</td>\n",
       "      <td>1.32230</td>\n",
       "      <td>24.4548</td>\n",
       "      <td>114.1010</td>\n",
       "      <td>491.226</td>\n",
       "      <td>1.673720</td>\n",
       "      <td>...</td>\n",
       "      <td>14.666400</td>\n",
       "      <td>23.8598</td>\n",
       "      <td>-47.9472</td>\n",
       "      <td>1.54907</td>\n",
       "      <td>10.51300</td>\n",
       "      <td>35.0546</td>\n",
       "      <td>365.274</td>\n",
       "      <td>2.0</td>\n",
       "      <td>-359.336</td>\n",
       "      <td>2.21601</td>\n",
       "    </tr>\n",
       "    <tr>\n",
       "      <th>7031</th>\n",
       "      <td>34__input_0089_0003_2_0003</td>\n",
       "      <td>0.0</td>\n",
       "      <td>-649.284</td>\n",
       "      <td>127.246</td>\n",
       "      <td>-345.567</td>\n",
       "      <td>1.48628</td>\n",
       "      <td>22.0350</td>\n",
       "      <td>104.1120</td>\n",
       "      <td>467.125</td>\n",
       "      <td>0.642665</td>\n",
       "      <td>...</td>\n",
       "      <td>-25.478400</td>\n",
       "      <td>21.2117</td>\n",
       "      <td>-52.0403</td>\n",
       "      <td>0.90880</td>\n",
       "      <td>1.72309</td>\n",
       "      <td>56.5384</td>\n",
       "      <td>368.686</td>\n",
       "      <td>2.0</td>\n",
       "      <td>-377.631</td>\n",
       "      <td>0.00553</td>\n",
       "    </tr>\n",
       "    <tr>\n",
       "      <th>10471</th>\n",
       "      <td>48__input_0158_0004_5_0004</td>\n",
       "      <td>0.0</td>\n",
       "      <td>-654.181</td>\n",
       "      <td>148.984</td>\n",
       "      <td>-353.882</td>\n",
       "      <td>1.37620</td>\n",
       "      <td>26.3134</td>\n",
       "      <td>105.4040</td>\n",
       "      <td>479.024</td>\n",
       "      <td>0.885627</td>\n",
       "      <td>...</td>\n",
       "      <td>3.518870</td>\n",
       "      <td>20.8836</td>\n",
       "      <td>-49.1916</td>\n",
       "      <td>1.90444</td>\n",
       "      <td>6.01423</td>\n",
       "      <td>32.1300</td>\n",
       "      <td>373.519</td>\n",
       "      <td>2.0</td>\n",
       "      <td>-370.456</td>\n",
       "      <td>0.40004</td>\n",
       "    </tr>\n",
       "    <tr>\n",
       "      <th>3343</th>\n",
       "      <td>1__input_0029_0004_2_0004_0010_0009</td>\n",
       "      <td>0.0</td>\n",
       "      <td>-650.796</td>\n",
       "      <td>167.518</td>\n",
       "      <td>-365.750</td>\n",
       "      <td>1.28732</td>\n",
       "      <td>24.7904</td>\n",
       "      <td>109.6980</td>\n",
       "      <td>484.419</td>\n",
       "      <td>1.212150</td>\n",
       "      <td>...</td>\n",
       "      <td>8.309230</td>\n",
       "      <td>19.7687</td>\n",
       "      <td>-47.2715</td>\n",
       "      <td>1.04166</td>\n",
       "      <td>7.86988</td>\n",
       "      <td>20.7659</td>\n",
       "      <td>374.164</td>\n",
       "      <td>1.0</td>\n",
       "      <td>-359.922</td>\n",
       "      <td>1.57153</td>\n",
       "    </tr>\n",
       "    <tr>\n",
       "      <th>8062</th>\n",
       "      <td>40__input_0022_0005_2_0003</td>\n",
       "      <td>0.0</td>\n",
       "      <td>-601.000</td>\n",
       "      <td>121.007</td>\n",
       "      <td>-333.507</td>\n",
       "      <td>1.26626</td>\n",
       "      <td>19.7659</td>\n",
       "      <td>95.5652</td>\n",
       "      <td>447.036</td>\n",
       "      <td>1.933170</td>\n",
       "      <td>...</td>\n",
       "      <td>40.334800</td>\n",
       "      <td>21.0191</td>\n",
       "      <td>-51.1115</td>\n",
       "      <td>1.43678</td>\n",
       "      <td>5.05218</td>\n",
       "      <td>43.2045</td>\n",
       "      <td>376.420</td>\n",
       "      <td>2.0</td>\n",
       "      <td>-358.986</td>\n",
       "      <td>0.31006</td>\n",
       "    </tr>\n",
       "    <tr>\n",
       "      <th>7504</th>\n",
       "      <td>37__input_0004_0002_1_0001</td>\n",
       "      <td>0.0</td>\n",
       "      <td>-649.158</td>\n",
       "      <td>139.540</td>\n",
       "      <td>-345.188</td>\n",
       "      <td>1.34261</td>\n",
       "      <td>21.8560</td>\n",
       "      <td>100.7590</td>\n",
       "      <td>470.084</td>\n",
       "      <td>0.226579</td>\n",
       "      <td>...</td>\n",
       "      <td>33.913400</td>\n",
       "      <td>16.2074</td>\n",
       "      <td>-51.6767</td>\n",
       "      <td>1.21975</td>\n",
       "      <td>0.07859</td>\n",
       "      <td>38.5094</td>\n",
       "      <td>378.324</td>\n",
       "      <td>3.0</td>\n",
       "      <td>-382.324</td>\n",
       "      <td>0.00264</td>\n",
       "    </tr>\n",
       "  </tbody>\n",
       "</table>\n",
       "<p>10 rows × 31 columns</p>\n",
       "</div>"
      ],
      "text/plain": [
       "                                description  dslf_fa13   fa_atr   fa_dun  \\\n",
       "324              10__input_0109_0003_2_0002        0.0 -632.010  142.613   \n",
       "253    10__input_0109_0001_1_0003_0008_0002        0.0 -651.449  160.488   \n",
       "7473   37__input_0004_0001_8_0002_0010_0003        0.0 -657.622  143.850   \n",
       "3766   20__input_0147_0005_1_0003_0007_0003        0.0 -679.824  153.735   \n",
       "3772   20__input_0147_0005_1_0003_0007_0009        0.0 -666.181  153.471   \n",
       "7031             34__input_0089_0003_2_0003        0.0 -649.284  127.246   \n",
       "10471            48__input_0158_0004_5_0004        0.0 -654.181  148.984   \n",
       "3343    1__input_0029_0004_2_0004_0010_0009        0.0 -650.796  167.518   \n",
       "8062             40__input_0022_0005_2_0003        0.0 -601.000  121.007   \n",
       "7504             37__input_0004_0002_1_0001        0.0 -649.158  139.540   \n",
       "\n",
       "       fa_elec  fa_intra_rep  fa_intra_sol_xover4    fa_rep   fa_sol  \\\n",
       "324   -369.197       1.34975              22.8569  103.8260  472.057   \n",
       "253   -357.602       1.43634              23.8905  110.4630  470.045   \n",
       "7473  -346.552       1.35837              24.5025  101.6180  490.597   \n",
       "3766  -351.913       1.34223              25.2517  108.2050  492.283   \n",
       "3772  -362.121       1.32230              24.4548  114.1010  491.226   \n",
       "7031  -345.567       1.48628              22.0350  104.1120  467.125   \n",
       "10471 -353.882       1.37620              26.3134  105.4040  479.024   \n",
       "3343  -365.750       1.28732              24.7904  109.6980  484.419   \n",
       "8062  -333.507       1.26626              19.7659   95.5652  447.036   \n",
       "7504  -345.188       1.34261              21.8560  100.7590  470.084   \n",
       "\n",
       "       gly_holes_atm      ...        network_holes_res    omega  p_aa_pp  \\\n",
       "324         1.460300      ...                18.261200  20.2096 -46.6875   \n",
       "253         1.252200      ...                 0.896044  23.8937 -45.9709   \n",
       "7473        0.434910      ...               -11.646700  22.2169 -47.6282   \n",
       "3766        0.575256      ...                10.528900  22.6959 -49.1420   \n",
       "3772        1.673720      ...                14.666400  23.8598 -47.9472   \n",
       "7031        0.642665      ...               -25.478400  21.2117 -52.0403   \n",
       "10471       0.885627      ...                 3.518870  20.8836 -49.1916   \n",
       "3343        1.212150      ...                 8.309230  19.7687 -47.2715   \n",
       "8062        1.933170      ...                40.334800  21.0191 -51.1115   \n",
       "7504        0.226579      ...                33.913400  16.2074 -51.6767   \n",
       "\n",
       "       pro_close  rama_prepro      ref     sasa  sc_heavy_unsat    total  \\\n",
       "324      1.73925      8.05503  39.2019  345.966             3.0 -358.506   \n",
       "253      1.39546      8.45724  37.5580  356.782             1.0 -345.642   \n",
       "7473     0.97466      4.47806  33.7854  357.516             3.0 -363.318   \n",
       "3766     1.62486      8.66772  31.7279  357.608             2.0 -376.518   \n",
       "3772     1.54907     10.51300  35.0546  365.274             2.0 -359.336   \n",
       "7031     0.90880      1.72309  56.5384  368.686             2.0 -377.631   \n",
       "10471    1.90444      6.01423  32.1300  373.519             2.0 -370.456   \n",
       "3343     1.04166      7.86988  20.7659  374.164             1.0 -359.922   \n",
       "8062     1.43678      5.05218  43.2045  376.420             2.0 -358.986   \n",
       "7504     1.21975      0.07859  38.5094  378.324             3.0 -382.324   \n",
       "\n",
       "       yhh_planarity  \n",
       "324          0.00990  \n",
       "253          1.39019  \n",
       "7473         1.14100  \n",
       "3766         2.28524  \n",
       "3772         2.21601  \n",
       "7031         0.00553  \n",
       "10471        0.40004  \n",
       "3343         1.57153  \n",
       "8062         0.31006  \n",
       "7504         0.00264  \n",
       "\n",
       "[10 rows x 31 columns]"
      ]
     },
     "execution_count": 126,
     "metadata": {},
     "output_type": "execute_result"
    }
   ],
   "source": [
    "dsc.nsmallest(10, 'sasa')"
   ]
  },
  {
   "cell_type": "code",
   "execution_count": 15,
   "metadata": {},
   "outputs": [
    {
     "data": {
      "text/html": [
       "<div>\n",
       "<style scoped>\n",
       "    .dataframe tbody tr th:only-of-type {\n",
       "        vertical-align: middle;\n",
       "    }\n",
       "\n",
       "    .dataframe tbody tr th {\n",
       "        vertical-align: top;\n",
       "    }\n",
       "\n",
       "    .dataframe thead th {\n",
       "        text-align: right;\n",
       "    }\n",
       "</style>\n",
       "<table border=\"1\" class=\"dataframe\">\n",
       "  <thead>\n",
       "    <tr style=\"text-align: right;\">\n",
       "      <th></th>\n",
       "      <th>description</th>\n",
       "      <th>dslf_fa13</th>\n",
       "      <th>fa_atr</th>\n",
       "      <th>fa_dun</th>\n",
       "      <th>fa_elec</th>\n",
       "      <th>fa_intra_rep</th>\n",
       "      <th>fa_intra_sol_xover4</th>\n",
       "      <th>fa_rep</th>\n",
       "      <th>fa_sol</th>\n",
       "      <th>gly_holes_atm</th>\n",
       "      <th>...</th>\n",
       "      <th>network_holes_res</th>\n",
       "      <th>omega</th>\n",
       "      <th>p_aa_pp</th>\n",
       "      <th>pro_close</th>\n",
       "      <th>rama_prepro</th>\n",
       "      <th>ref</th>\n",
       "      <th>sasa</th>\n",
       "      <th>sc_heavy_unsat</th>\n",
       "      <th>total</th>\n",
       "      <th>yhh_planarity</th>\n",
       "    </tr>\n",
       "  </thead>\n",
       "  <tbody>\n",
       "    <tr>\n",
       "      <th>3860</th>\n",
       "      <td>20_input_0173_0003_0009_0004_0001_0004</td>\n",
       "      <td>0.0</td>\n",
       "      <td>-996.318</td>\n",
       "      <td>228.149</td>\n",
       "      <td>-513.777</td>\n",
       "      <td>2.24766</td>\n",
       "      <td>35.9602</td>\n",
       "      <td>137.628</td>\n",
       "      <td>725.637</td>\n",
       "      <td>1.736990</td>\n",
       "      <td>...</td>\n",
       "      <td>24.79680</td>\n",
       "      <td>19.7114</td>\n",
       "      <td>-54.6248</td>\n",
       "      <td>0.93591</td>\n",
       "      <td>2.93688</td>\n",
       "      <td>47.5672</td>\n",
       "      <td>2062.61</td>\n",
       "      <td>0.0</td>\n",
       "      <td>-613.198</td>\n",
       "      <td>1.39739</td>\n",
       "    </tr>\n",
       "    <tr>\n",
       "      <th>6330</th>\n",
       "      <td>32_input_0104_0004_0006_0002_0010_0006</td>\n",
       "      <td>0.0</td>\n",
       "      <td>-999.554</td>\n",
       "      <td>229.978</td>\n",
       "      <td>-496.020</td>\n",
       "      <td>2.16323</td>\n",
       "      <td>34.6106</td>\n",
       "      <td>133.380</td>\n",
       "      <td>710.416</td>\n",
       "      <td>-0.302051</td>\n",
       "      <td>...</td>\n",
       "      <td>5.57286</td>\n",
       "      <td>20.6960</td>\n",
       "      <td>-56.2559</td>\n",
       "      <td>0.87428</td>\n",
       "      <td>-0.14106</td>\n",
       "      <td>37.4423</td>\n",
       "      <td>2016.89</td>\n",
       "      <td>0.0</td>\n",
       "      <td>-627.768</td>\n",
       "      <td>1.77783</td>\n",
       "    </tr>\n",
       "    <tr>\n",
       "      <th>3020</th>\n",
       "      <td>1_input_0034_0002_00013_0005_0001_0008</td>\n",
       "      <td>0.0</td>\n",
       "      <td>-1009.640</td>\n",
       "      <td>235.608</td>\n",
       "      <td>-494.827</td>\n",
       "      <td>2.22968</td>\n",
       "      <td>34.5716</td>\n",
       "      <td>136.308</td>\n",
       "      <td>722.135</td>\n",
       "      <td>1.009500</td>\n",
       "      <td>...</td>\n",
       "      <td>22.76080</td>\n",
       "      <td>18.7964</td>\n",
       "      <td>-54.7529</td>\n",
       "      <td>1.11924</td>\n",
       "      <td>2.09177</td>\n",
       "      <td>48.8936</td>\n",
       "      <td>2065.40</td>\n",
       "      <td>1.0</td>\n",
       "      <td>-602.751</td>\n",
       "      <td>2.61206</td>\n",
       "    </tr>\n",
       "    <tr>\n",
       "      <th>3201</th>\n",
       "      <td>1_input_0034_0005_0006_0005_0001_0004</td>\n",
       "      <td>0.0</td>\n",
       "      <td>-968.103</td>\n",
       "      <td>213.360</td>\n",
       "      <td>-486.017</td>\n",
       "      <td>2.06511</td>\n",
       "      <td>32.0725</td>\n",
       "      <td>129.714</td>\n",
       "      <td>708.632</td>\n",
       "      <td>1.029350</td>\n",
       "      <td>...</td>\n",
       "      <td>19.49670</td>\n",
       "      <td>19.9274</td>\n",
       "      <td>-55.8340</td>\n",
       "      <td>1.51604</td>\n",
       "      <td>0.84428</td>\n",
       "      <td>51.7945</td>\n",
       "      <td>2207.99</td>\n",
       "      <td>0.0</td>\n",
       "      <td>-595.618</td>\n",
       "      <td>1.26370</td>\n",
       "    </tr>\n",
       "    <tr>\n",
       "      <th>3866</th>\n",
       "      <td>20_input_0173_0003_0009_0004_0001_0010</td>\n",
       "      <td>0.0</td>\n",
       "      <td>-1002.520</td>\n",
       "      <td>216.860</td>\n",
       "      <td>-491.421</td>\n",
       "      <td>2.25238</td>\n",
       "      <td>34.6572</td>\n",
       "      <td>139.665</td>\n",
       "      <td>687.630</td>\n",
       "      <td>1.855930</td>\n",
       "      <td>...</td>\n",
       "      <td>23.91860</td>\n",
       "      <td>21.5035</td>\n",
       "      <td>-55.6480</td>\n",
       "      <td>0.72689</td>\n",
       "      <td>3.45503</td>\n",
       "      <td>67.4327</td>\n",
       "      <td>1965.89</td>\n",
       "      <td>0.0</td>\n",
       "      <td>-618.412</td>\n",
       "      <td>1.22551</td>\n",
       "    </tr>\n",
       "    <tr>\n",
       "      <th>3197</th>\n",
       "      <td>1_input_0034_0005_0006_0005_0001</td>\n",
       "      <td>0.0</td>\n",
       "      <td>-914.575</td>\n",
       "      <td>198.998</td>\n",
       "      <td>-453.127</td>\n",
       "      <td>2.00450</td>\n",
       "      <td>30.5736</td>\n",
       "      <td>113.291</td>\n",
       "      <td>669.401</td>\n",
       "      <td>1.513440</td>\n",
       "      <td>...</td>\n",
       "      <td>6.94814</td>\n",
       "      <td>18.3352</td>\n",
       "      <td>-57.7610</td>\n",
       "      <td>1.22969</td>\n",
       "      <td>-1.14613</td>\n",
       "      <td>50.7774</td>\n",
       "      <td>2281.83</td>\n",
       "      <td>1.0</td>\n",
       "      <td>-595.130</td>\n",
       "      <td>1.11549</td>\n",
       "    </tr>\n",
       "    <tr>\n",
       "      <th>3825</th>\n",
       "      <td>20_input_0173_0003_00022_0002_0001_0002</td>\n",
       "      <td>0.0</td>\n",
       "      <td>-980.101</td>\n",
       "      <td>214.930</td>\n",
       "      <td>-498.959</td>\n",
       "      <td>2.18429</td>\n",
       "      <td>33.9087</td>\n",
       "      <td>132.151</td>\n",
       "      <td>703.257</td>\n",
       "      <td>1.586490</td>\n",
       "      <td>...</td>\n",
       "      <td>24.08250</td>\n",
       "      <td>22.4231</td>\n",
       "      <td>-53.5825</td>\n",
       "      <td>0.90352</td>\n",
       "      <td>-0.92491</td>\n",
       "      <td>54.0961</td>\n",
       "      <td>1950.91</td>\n",
       "      <td>1.0</td>\n",
       "      <td>-614.830</td>\n",
       "      <td>2.55005</td>\n",
       "    </tr>\n",
       "    <tr>\n",
       "      <th>3861</th>\n",
       "      <td>20_input_0173_0003_0009_0004_0001_0005</td>\n",
       "      <td>0.0</td>\n",
       "      <td>-998.026</td>\n",
       "      <td>238.037</td>\n",
       "      <td>-517.200</td>\n",
       "      <td>2.18621</td>\n",
       "      <td>34.6024</td>\n",
       "      <td>134.815</td>\n",
       "      <td>739.622</td>\n",
       "      <td>0.297871</td>\n",
       "      <td>...</td>\n",
       "      <td>14.10960</td>\n",
       "      <td>21.2985</td>\n",
       "      <td>-51.7756</td>\n",
       "      <td>0.72050</td>\n",
       "      <td>4.63425</td>\n",
       "      <td>34.1806</td>\n",
       "      <td>2024.26</td>\n",
       "      <td>0.0</td>\n",
       "      <td>-603.957</td>\n",
       "      <td>0.45862</td>\n",
       "    </tr>\n",
       "    <tr>\n",
       "      <th>3740</th>\n",
       "      <td>20_input_0173_0003_00014_0005_0002_0005</td>\n",
       "      <td>0.0</td>\n",
       "      <td>-984.970</td>\n",
       "      <td>216.924</td>\n",
       "      <td>-506.374</td>\n",
       "      <td>2.11994</td>\n",
       "      <td>34.4772</td>\n",
       "      <td>140.074</td>\n",
       "      <td>718.663</td>\n",
       "      <td>0.618823</td>\n",
       "      <td>...</td>\n",
       "      <td>1.25619</td>\n",
       "      <td>18.7716</td>\n",
       "      <td>-53.3481</td>\n",
       "      <td>0.89868</td>\n",
       "      <td>4.21422</td>\n",
       "      <td>42.3231</td>\n",
       "      <td>1931.99</td>\n",
       "      <td>0.0</td>\n",
       "      <td>-604.966</td>\n",
       "      <td>1.93937</td>\n",
       "    </tr>\n",
       "    <tr>\n",
       "      <th>7279</th>\n",
       "      <td>38_input_0094_0003_0007_0002_0007_0007</td>\n",
       "      <td>0.0</td>\n",
       "      <td>-981.985</td>\n",
       "      <td>226.124</td>\n",
       "      <td>-501.838</td>\n",
       "      <td>2.21458</td>\n",
       "      <td>32.7387</td>\n",
       "      <td>131.510</td>\n",
       "      <td>701.987</td>\n",
       "      <td>1.393020</td>\n",
       "      <td>...</td>\n",
       "      <td>26.82490</td>\n",
       "      <td>20.7158</td>\n",
       "      <td>-52.5991</td>\n",
       "      <td>1.80751</td>\n",
       "      <td>4.41600</td>\n",
       "      <td>49.9792</td>\n",
       "      <td>2258.95</td>\n",
       "      <td>0.0</td>\n",
       "      <td>-606.687</td>\n",
       "      <td>2.30752</td>\n",
       "    </tr>\n",
       "  </tbody>\n",
       "</table>\n",
       "<p>10 rows × 31 columns</p>\n",
       "</div>"
      ],
      "text/plain": [
       "                                  description  dslf_fa13    fa_atr   fa_dun  \\\n",
       "3860   20_input_0173_0003_0009_0004_0001_0004        0.0  -996.318  228.149   \n",
       "6330   32_input_0104_0004_0006_0002_0010_0006        0.0  -999.554  229.978   \n",
       "3020   1_input_0034_0002_00013_0005_0001_0008        0.0 -1009.640  235.608   \n",
       "3201    1_input_0034_0005_0006_0005_0001_0004        0.0  -968.103  213.360   \n",
       "3866   20_input_0173_0003_0009_0004_0001_0010        0.0 -1002.520  216.860   \n",
       "3197         1_input_0034_0005_0006_0005_0001        0.0  -914.575  198.998   \n",
       "3825  20_input_0173_0003_00022_0002_0001_0002        0.0  -980.101  214.930   \n",
       "3861   20_input_0173_0003_0009_0004_0001_0005        0.0  -998.026  238.037   \n",
       "3740  20_input_0173_0003_00014_0005_0002_0005        0.0  -984.970  216.924   \n",
       "7279   38_input_0094_0003_0007_0002_0007_0007        0.0  -981.985  226.124   \n",
       "\n",
       "      fa_elec  fa_intra_rep  fa_intra_sol_xover4   fa_rep   fa_sol  \\\n",
       "3860 -513.777       2.24766              35.9602  137.628  725.637   \n",
       "6330 -496.020       2.16323              34.6106  133.380  710.416   \n",
       "3020 -494.827       2.22968              34.5716  136.308  722.135   \n",
       "3201 -486.017       2.06511              32.0725  129.714  708.632   \n",
       "3866 -491.421       2.25238              34.6572  139.665  687.630   \n",
       "3197 -453.127       2.00450              30.5736  113.291  669.401   \n",
       "3825 -498.959       2.18429              33.9087  132.151  703.257   \n",
       "3861 -517.200       2.18621              34.6024  134.815  739.622   \n",
       "3740 -506.374       2.11994              34.4772  140.074  718.663   \n",
       "7279 -501.838       2.21458              32.7387  131.510  701.987   \n",
       "\n",
       "      gly_holes_atm  ...  network_holes_res    omega  p_aa_pp  pro_close  \\\n",
       "3860       1.736990  ...           24.79680  19.7114 -54.6248    0.93591   \n",
       "6330      -0.302051  ...            5.57286  20.6960 -56.2559    0.87428   \n",
       "3020       1.009500  ...           22.76080  18.7964 -54.7529    1.11924   \n",
       "3201       1.029350  ...           19.49670  19.9274 -55.8340    1.51604   \n",
       "3866       1.855930  ...           23.91860  21.5035 -55.6480    0.72689   \n",
       "3197       1.513440  ...            6.94814  18.3352 -57.7610    1.22969   \n",
       "3825       1.586490  ...           24.08250  22.4231 -53.5825    0.90352   \n",
       "3861       0.297871  ...           14.10960  21.2985 -51.7756    0.72050   \n",
       "3740       0.618823  ...            1.25619  18.7716 -53.3481    0.89868   \n",
       "7279       1.393020  ...           26.82490  20.7158 -52.5991    1.80751   \n",
       "\n",
       "      rama_prepro      ref     sasa  sc_heavy_unsat    total  yhh_planarity  \n",
       "3860      2.93688  47.5672  2062.61             0.0 -613.198        1.39739  \n",
       "6330     -0.14106  37.4423  2016.89             0.0 -627.768        1.77783  \n",
       "3020      2.09177  48.8936  2065.40             1.0 -602.751        2.61206  \n",
       "3201      0.84428  51.7945  2207.99             0.0 -595.618        1.26370  \n",
       "3866      3.45503  67.4327  1965.89             0.0 -618.412        1.22551  \n",
       "3197     -1.14613  50.7774  2281.83             1.0 -595.130        1.11549  \n",
       "3825     -0.92491  54.0961  1950.91             1.0 -614.830        2.55005  \n",
       "3861      4.63425  34.1806  2024.26             0.0 -603.957        0.45862  \n",
       "3740      4.21422  42.3231  1931.99             0.0 -604.966        1.93937  \n",
       "7279      4.41600  49.9792  2258.95             0.0 -606.687        2.30752  \n",
       "\n",
       "[10 rows x 31 columns]"
      ]
     },
     "execution_count": 15,
     "metadata": {},
     "output_type": "execute_result"
    }
   ],
   "source": [
    "dsc.nsmallest(10, 'hbond_sc')"
   ]
  },
  {
   "cell_type": "code",
   "execution_count": 38,
   "metadata": {},
   "outputs": [
    {
     "data": {
      "text/html": [
       "<div>\n",
       "<style scoped>\n",
       "    .dataframe tbody tr th:only-of-type {\n",
       "        vertical-align: middle;\n",
       "    }\n",
       "\n",
       "    .dataframe tbody tr th {\n",
       "        vertical-align: top;\n",
       "    }\n",
       "\n",
       "    .dataframe thead th {\n",
       "        text-align: right;\n",
       "    }\n",
       "</style>\n",
       "<table border=\"1\" class=\"dataframe\">\n",
       "  <thead>\n",
       "    <tr style=\"text-align: right;\">\n",
       "      <th></th>\n",
       "      <th>description</th>\n",
       "      <th>dslf_fa13</th>\n",
       "      <th>fa_atr</th>\n",
       "      <th>fa_dun</th>\n",
       "      <th>fa_elec</th>\n",
       "      <th>fa_intra_rep</th>\n",
       "      <th>fa_intra_sol_xover4</th>\n",
       "      <th>fa_rep</th>\n",
       "      <th>fa_sol</th>\n",
       "      <th>gly_holes_atm</th>\n",
       "      <th>...</th>\n",
       "      <th>network_holes_res</th>\n",
       "      <th>omega</th>\n",
       "      <th>p_aa_pp</th>\n",
       "      <th>pro_close</th>\n",
       "      <th>rama_prepro</th>\n",
       "      <th>ref</th>\n",
       "      <th>sasa</th>\n",
       "      <th>sc_heavy_unsat</th>\n",
       "      <th>total</th>\n",
       "      <th>yhh_planarity</th>\n",
       "    </tr>\n",
       "  </thead>\n",
       "  <tbody>\n",
       "    <tr>\n",
       "      <th>4325</th>\n",
       "      <td>23_input_0109_0003_0009_0002_0001_0007</td>\n",
       "      <td>0.0</td>\n",
       "      <td>-980.080</td>\n",
       "      <td>199.895</td>\n",
       "      <td>-450.312</td>\n",
       "      <td>2.26963</td>\n",
       "      <td>28.3841</td>\n",
       "      <td>141.596</td>\n",
       "      <td>607.016</td>\n",
       "      <td>1.372280</td>\n",
       "      <td>...</td>\n",
       "      <td>21.78810</td>\n",
       "      <td>17.9285</td>\n",
       "      <td>-62.5746</td>\n",
       "      <td>1.17605</td>\n",
       "      <td>-4.12930</td>\n",
       "      <td>98.8389</td>\n",
       "      <td>2057.08</td>\n",
       "      <td>0.0</td>\n",
       "      <td>-620.442</td>\n",
       "      <td>2.15763</td>\n",
       "    </tr>\n",
       "    <tr>\n",
       "      <th>4323</th>\n",
       "      <td>23_input_0109_0003_0009_0002_0001_0005</td>\n",
       "      <td>0.0</td>\n",
       "      <td>-967.458</td>\n",
       "      <td>185.328</td>\n",
       "      <td>-437.608</td>\n",
       "      <td>2.20025</td>\n",
       "      <td>27.2384</td>\n",
       "      <td>142.385</td>\n",
       "      <td>594.028</td>\n",
       "      <td>1.902480</td>\n",
       "      <td>...</td>\n",
       "      <td>37.27550</td>\n",
       "      <td>15.8340</td>\n",
       "      <td>-62.1521</td>\n",
       "      <td>1.11049</td>\n",
       "      <td>-2.49167</td>\n",
       "      <td>102.6020</td>\n",
       "      <td>1986.47</td>\n",
       "      <td>0.0</td>\n",
       "      <td>-620.939</td>\n",
       "      <td>2.23387</td>\n",
       "    </tr>\n",
       "    <tr>\n",
       "      <th>4541</th>\n",
       "      <td>25_input_0015_0003_0005_0004_0006_0006</td>\n",
       "      <td>0.0</td>\n",
       "      <td>-972.463</td>\n",
       "      <td>201.782</td>\n",
       "      <td>-445.229</td>\n",
       "      <td>2.21480</td>\n",
       "      <td>29.1236</td>\n",
       "      <td>142.526</td>\n",
       "      <td>628.027</td>\n",
       "      <td>1.657900</td>\n",
       "      <td>...</td>\n",
       "      <td>40.62240</td>\n",
       "      <td>17.6944</td>\n",
       "      <td>-64.2462</td>\n",
       "      <td>0.80052</td>\n",
       "      <td>-4.29839</td>\n",
       "      <td>88.9923</td>\n",
       "      <td>2183.33</td>\n",
       "      <td>0.0</td>\n",
       "      <td>-593.601</td>\n",
       "      <td>0.60228</td>\n",
       "    </tr>\n",
       "    <tr>\n",
       "      <th>1141</th>\n",
       "      <td>13_input_0076_0004_0005_0002_0008_0008</td>\n",
       "      <td>0.0</td>\n",
       "      <td>-997.968</td>\n",
       "      <td>212.723</td>\n",
       "      <td>-452.471</td>\n",
       "      <td>2.21654</td>\n",
       "      <td>32.1914</td>\n",
       "      <td>142.656</td>\n",
       "      <td>644.705</td>\n",
       "      <td>0.924547</td>\n",
       "      <td>...</td>\n",
       "      <td>5.56323</td>\n",
       "      <td>23.1424</td>\n",
       "      <td>-58.6925</td>\n",
       "      <td>1.12471</td>\n",
       "      <td>0.37493</td>\n",
       "      <td>65.5952</td>\n",
       "      <td>2121.89</td>\n",
       "      <td>1.0</td>\n",
       "      <td>-597.034</td>\n",
       "      <td>1.13704</td>\n",
       "    </tr>\n",
       "    <tr>\n",
       "      <th>1345</th>\n",
       "      <td>14_input_0012_0004_00010_0004_0010_0005</td>\n",
       "      <td>0.0</td>\n",
       "      <td>-1003.270</td>\n",
       "      <td>206.823</td>\n",
       "      <td>-460.857</td>\n",
       "      <td>2.20297</td>\n",
       "      <td>28.4417</td>\n",
       "      <td>145.030</td>\n",
       "      <td>645.981</td>\n",
       "      <td>0.303291</td>\n",
       "      <td>...</td>\n",
       "      <td>30.05090</td>\n",
       "      <td>20.3174</td>\n",
       "      <td>-58.9799</td>\n",
       "      <td>1.25595</td>\n",
       "      <td>0.36920</td>\n",
       "      <td>85.5287</td>\n",
       "      <td>1918.70</td>\n",
       "      <td>2.0</td>\n",
       "      <td>-609.507</td>\n",
       "      <td>1.48617</td>\n",
       "    </tr>\n",
       "    <tr>\n",
       "      <th>8651</th>\n",
       "      <td>43_input_0127_0003_0006_0003_0004_0009</td>\n",
       "      <td>0.0</td>\n",
       "      <td>-998.006</td>\n",
       "      <td>185.322</td>\n",
       "      <td>-418.387</td>\n",
       "      <td>2.30027</td>\n",
       "      <td>28.9800</td>\n",
       "      <td>140.362</td>\n",
       "      <td>601.757</td>\n",
       "      <td>0.972899</td>\n",
       "      <td>...</td>\n",
       "      <td>12.53070</td>\n",
       "      <td>21.3828</td>\n",
       "      <td>-69.9663</td>\n",
       "      <td>0.88177</td>\n",
       "      <td>-6.84229</td>\n",
       "      <td>118.8850</td>\n",
       "      <td>1980.74</td>\n",
       "      <td>0.0</td>\n",
       "      <td>-619.619</td>\n",
       "      <td>1.02427</td>\n",
       "    </tr>\n",
       "    <tr>\n",
       "      <th>8643</th>\n",
       "      <td>43_input_0127_0003_0006_0003_0004_0001</td>\n",
       "      <td>0.0</td>\n",
       "      <td>-999.234</td>\n",
       "      <td>193.737</td>\n",
       "      <td>-425.976</td>\n",
       "      <td>2.28555</td>\n",
       "      <td>28.9922</td>\n",
       "      <td>139.954</td>\n",
       "      <td>607.039</td>\n",
       "      <td>1.600270</td>\n",
       "      <td>...</td>\n",
       "      <td>16.89280</td>\n",
       "      <td>20.6508</td>\n",
       "      <td>-67.6256</td>\n",
       "      <td>0.80986</td>\n",
       "      <td>-3.58420</td>\n",
       "      <td>110.0230</td>\n",
       "      <td>2026.26</td>\n",
       "      <td>0.0</td>\n",
       "      <td>-615.509</td>\n",
       "      <td>1.12514</td>\n",
       "    </tr>\n",
       "    <tr>\n",
       "      <th>544</th>\n",
       "      <td>11_input_0049_0005_0009_0001_0004_0005</td>\n",
       "      <td>0.0</td>\n",
       "      <td>-981.331</td>\n",
       "      <td>212.480</td>\n",
       "      <td>-470.392</td>\n",
       "      <td>2.23490</td>\n",
       "      <td>29.8360</td>\n",
       "      <td>145.033</td>\n",
       "      <td>653.023</td>\n",
       "      <td>1.333130</td>\n",
       "      <td>...</td>\n",
       "      <td>-8.52964</td>\n",
       "      <td>20.3423</td>\n",
       "      <td>-60.3478</td>\n",
       "      <td>1.34112</td>\n",
       "      <td>-0.26142</td>\n",
       "      <td>68.1515</td>\n",
       "      <td>2117.98</td>\n",
       "      <td>0.0</td>\n",
       "      <td>-598.887</td>\n",
       "      <td>1.99791</td>\n",
       "    </tr>\n",
       "    <tr>\n",
       "      <th>10304</th>\n",
       "      <td>4_input_0048_0004_00019_0003_0004_0002</td>\n",
       "      <td>0.0</td>\n",
       "      <td>-997.801</td>\n",
       "      <td>208.556</td>\n",
       "      <td>-482.915</td>\n",
       "      <td>2.17218</td>\n",
       "      <td>32.7091</td>\n",
       "      <td>144.436</td>\n",
       "      <td>690.845</td>\n",
       "      <td>0.769831</td>\n",
       "      <td>...</td>\n",
       "      <td>30.50560</td>\n",
       "      <td>21.3996</td>\n",
       "      <td>-53.8665</td>\n",
       "      <td>0.73264</td>\n",
       "      <td>2.92708</td>\n",
       "      <td>67.8949</td>\n",
       "      <td>2021.33</td>\n",
       "      <td>0.0</td>\n",
       "      <td>-585.528</td>\n",
       "      <td>1.94554</td>\n",
       "    </tr>\n",
       "    <tr>\n",
       "      <th>6746</th>\n",
       "      <td>34_input_0043_0004_00014_0004_0004_0005</td>\n",
       "      <td>0.0</td>\n",
       "      <td>-990.673</td>\n",
       "      <td>199.602</td>\n",
       "      <td>-465.490</td>\n",
       "      <td>2.24659</td>\n",
       "      <td>30.7436</td>\n",
       "      <td>144.098</td>\n",
       "      <td>654.508</td>\n",
       "      <td>-0.001697</td>\n",
       "      <td>...</td>\n",
       "      <td>27.13670</td>\n",
       "      <td>20.5024</td>\n",
       "      <td>-56.5425</td>\n",
       "      <td>0.80312</td>\n",
       "      <td>4.52813</td>\n",
       "      <td>79.3419</td>\n",
       "      <td>1839.61</td>\n",
       "      <td>3.0</td>\n",
       "      <td>-601.857</td>\n",
       "      <td>1.21834</td>\n",
       "    </tr>\n",
       "  </tbody>\n",
       "</table>\n",
       "<p>10 rows × 31 columns</p>\n",
       "</div>"
      ],
      "text/plain": [
       "                                   description  dslf_fa13    fa_atr   fa_dun  \\\n",
       "4325    23_input_0109_0003_0009_0002_0001_0007        0.0  -980.080  199.895   \n",
       "4323    23_input_0109_0003_0009_0002_0001_0005        0.0  -967.458  185.328   \n",
       "4541    25_input_0015_0003_0005_0004_0006_0006        0.0  -972.463  201.782   \n",
       "1141    13_input_0076_0004_0005_0002_0008_0008        0.0  -997.968  212.723   \n",
       "1345   14_input_0012_0004_00010_0004_0010_0005        0.0 -1003.270  206.823   \n",
       "8651    43_input_0127_0003_0006_0003_0004_0009        0.0  -998.006  185.322   \n",
       "8643    43_input_0127_0003_0006_0003_0004_0001        0.0  -999.234  193.737   \n",
       "544     11_input_0049_0005_0009_0001_0004_0005        0.0  -981.331  212.480   \n",
       "10304   4_input_0048_0004_00019_0003_0004_0002        0.0  -997.801  208.556   \n",
       "6746   34_input_0043_0004_00014_0004_0004_0005        0.0  -990.673  199.602   \n",
       "\n",
       "       fa_elec  fa_intra_rep  fa_intra_sol_xover4   fa_rep   fa_sol  \\\n",
       "4325  -450.312       2.26963              28.3841  141.596  607.016   \n",
       "4323  -437.608       2.20025              27.2384  142.385  594.028   \n",
       "4541  -445.229       2.21480              29.1236  142.526  628.027   \n",
       "1141  -452.471       2.21654              32.1914  142.656  644.705   \n",
       "1345  -460.857       2.20297              28.4417  145.030  645.981   \n",
       "8651  -418.387       2.30027              28.9800  140.362  601.757   \n",
       "8643  -425.976       2.28555              28.9922  139.954  607.039   \n",
       "544   -470.392       2.23490              29.8360  145.033  653.023   \n",
       "10304 -482.915       2.17218              32.7091  144.436  690.845   \n",
       "6746  -465.490       2.24659              30.7436  144.098  654.508   \n",
       "\n",
       "       gly_holes_atm  ...  network_holes_res    omega  p_aa_pp  pro_close  \\\n",
       "4325        1.372280  ...           21.78810  17.9285 -62.5746    1.17605   \n",
       "4323        1.902480  ...           37.27550  15.8340 -62.1521    1.11049   \n",
       "4541        1.657900  ...           40.62240  17.6944 -64.2462    0.80052   \n",
       "1141        0.924547  ...            5.56323  23.1424 -58.6925    1.12471   \n",
       "1345        0.303291  ...           30.05090  20.3174 -58.9799    1.25595   \n",
       "8651        0.972899  ...           12.53070  21.3828 -69.9663    0.88177   \n",
       "8643        1.600270  ...           16.89280  20.6508 -67.6256    0.80986   \n",
       "544         1.333130  ...           -8.52964  20.3423 -60.3478    1.34112   \n",
       "10304       0.769831  ...           30.50560  21.3996 -53.8665    0.73264   \n",
       "6746       -0.001697  ...           27.13670  20.5024 -56.5425    0.80312   \n",
       "\n",
       "       rama_prepro       ref     sasa  sc_heavy_unsat    total  yhh_planarity  \n",
       "4325      -4.12930   98.8389  2057.08             0.0 -620.442        2.15763  \n",
       "4323      -2.49167  102.6020  1986.47             0.0 -620.939        2.23387  \n",
       "4541      -4.29839   88.9923  2183.33             0.0 -593.601        0.60228  \n",
       "1141       0.37493   65.5952  2121.89             1.0 -597.034        1.13704  \n",
       "1345       0.36920   85.5287  1918.70             2.0 -609.507        1.48617  \n",
       "8651      -6.84229  118.8850  1980.74             0.0 -619.619        1.02427  \n",
       "8643      -3.58420  110.0230  2026.26             0.0 -615.509        1.12514  \n",
       "544       -0.26142   68.1515  2117.98             0.0 -598.887        1.99791  \n",
       "10304      2.92708   67.8949  2021.33             0.0 -585.528        1.94554  \n",
       "6746       4.52813   79.3419  1839.61             3.0 -601.857        1.21834  \n",
       "\n",
       "[10 rows x 31 columns]"
      ]
     },
     "execution_count": 38,
     "metadata": {},
     "output_type": "execute_result"
    }
   ],
   "source": [
    "dsc.nlargest(10, 'hbond_sc')"
   ]
  },
  {
   "cell_type": "code",
   "execution_count": 39,
   "metadata": {},
   "outputs": [
    {
     "data": {
      "text/html": [
       "<div>\n",
       "<style scoped>\n",
       "    .dataframe tbody tr th:only-of-type {\n",
       "        vertical-align: middle;\n",
       "    }\n",
       "\n",
       "    .dataframe tbody tr th {\n",
       "        vertical-align: top;\n",
       "    }\n",
       "\n",
       "    .dataframe thead th {\n",
       "        text-align: right;\n",
       "    }\n",
       "</style>\n",
       "<table border=\"1\" class=\"dataframe\">\n",
       "  <thead>\n",
       "    <tr style=\"text-align: right;\">\n",
       "      <th></th>\n",
       "      <th>description</th>\n",
       "      <th>dslf_fa13</th>\n",
       "      <th>fa_atr</th>\n",
       "      <th>fa_dun</th>\n",
       "      <th>fa_elec</th>\n",
       "      <th>fa_intra_rep</th>\n",
       "      <th>fa_intra_sol_xover4</th>\n",
       "      <th>fa_rep</th>\n",
       "      <th>fa_sol</th>\n",
       "      <th>gly_holes_atm</th>\n",
       "      <th>...</th>\n",
       "      <th>network_holes_res</th>\n",
       "      <th>omega</th>\n",
       "      <th>p_aa_pp</th>\n",
       "      <th>pro_close</th>\n",
       "      <th>rama_prepro</th>\n",
       "      <th>ref</th>\n",
       "      <th>sasa</th>\n",
       "      <th>sc_heavy_unsat</th>\n",
       "      <th>total</th>\n",
       "      <th>yhh_planarity</th>\n",
       "    </tr>\n",
       "  </thead>\n",
       "  <tbody>\n",
       "    <tr>\n",
       "      <th>3231</th>\n",
       "      <td>1_input_0034_0005_0008_0003_0003_0001</td>\n",
       "      <td>0.0</td>\n",
       "      <td>-965.723</td>\n",
       "      <td>212.681</td>\n",
       "      <td>-495.569</td>\n",
       "      <td>2.13800</td>\n",
       "      <td>30.2249</td>\n",
       "      <td>139.091</td>\n",
       "      <td>691.647</td>\n",
       "      <td>1.696950</td>\n",
       "      <td>...</td>\n",
       "      <td>20.51510</td>\n",
       "      <td>19.9649</td>\n",
       "      <td>-60.3512</td>\n",
       "      <td>1.65119</td>\n",
       "      <td>-0.24558</td>\n",
       "      <td>66.1376</td>\n",
       "      <td>2221.58</td>\n",
       "      <td>4.0</td>\n",
       "      <td>-594.617</td>\n",
       "      <td>2.63221</td>\n",
       "    </tr>\n",
       "    <tr>\n",
       "      <th>3678</th>\n",
       "      <td>20_input_0142_0004_00017_0003_0006_0009</td>\n",
       "      <td>0.0</td>\n",
       "      <td>-994.807</td>\n",
       "      <td>209.040</td>\n",
       "      <td>-469.324</td>\n",
       "      <td>2.13394</td>\n",
       "      <td>30.9301</td>\n",
       "      <td>142.528</td>\n",
       "      <td>691.058</td>\n",
       "      <td>-1.092970</td>\n",
       "      <td>...</td>\n",
       "      <td>-6.33542</td>\n",
       "      <td>20.0677</td>\n",
       "      <td>-59.4912</td>\n",
       "      <td>0.68528</td>\n",
       "      <td>0.20551</td>\n",
       "      <td>60.9079</td>\n",
       "      <td>1904.50</td>\n",
       "      <td>4.0</td>\n",
       "      <td>-605.547</td>\n",
       "      <td>2.89616</td>\n",
       "    </tr>\n",
       "    <tr>\n",
       "      <th>3752</th>\n",
       "      <td>20_input_0173_0003_00017_0004_0009_0006</td>\n",
       "      <td>0.0</td>\n",
       "      <td>-981.003</td>\n",
       "      <td>230.452</td>\n",
       "      <td>-536.242</td>\n",
       "      <td>2.18582</td>\n",
       "      <td>35.6764</td>\n",
       "      <td>140.786</td>\n",
       "      <td>734.818</td>\n",
       "      <td>1.639720</td>\n",
       "      <td>...</td>\n",
       "      <td>35.27670</td>\n",
       "      <td>17.9496</td>\n",
       "      <td>-52.5015</td>\n",
       "      <td>1.18451</td>\n",
       "      <td>4.27246</td>\n",
       "      <td>33.2952</td>\n",
       "      <td>2022.71</td>\n",
       "      <td>4.0</td>\n",
       "      <td>-594.096</td>\n",
       "      <td>1.72912</td>\n",
       "    </tr>\n",
       "    <tr>\n",
       "      <th>1</th>\n",
       "      <td>0_input_0069_0003_00010_0001_0002_0001</td>\n",
       "      <td>0.0</td>\n",
       "      <td>-953.029</td>\n",
       "      <td>233.222</td>\n",
       "      <td>-515.929</td>\n",
       "      <td>2.06844</td>\n",
       "      <td>32.1801</td>\n",
       "      <td>133.150</td>\n",
       "      <td>711.438</td>\n",
       "      <td>2.093730</td>\n",
       "      <td>...</td>\n",
       "      <td>3.74976</td>\n",
       "      <td>21.5317</td>\n",
       "      <td>-53.5293</td>\n",
       "      <td>1.82101</td>\n",
       "      <td>-1.58657</td>\n",
       "      <td>25.7583</td>\n",
       "      <td>2360.46</td>\n",
       "      <td>3.0</td>\n",
       "      <td>-592.617</td>\n",
       "      <td>2.04212</td>\n",
       "    </tr>\n",
       "    <tr>\n",
       "      <th>12</th>\n",
       "      <td>0_input_0069_0003_0006_0004_0004_0001</td>\n",
       "      <td>0.0</td>\n",
       "      <td>-988.026</td>\n",
       "      <td>217.014</td>\n",
       "      <td>-497.183</td>\n",
       "      <td>2.11401</td>\n",
       "      <td>31.9762</td>\n",
       "      <td>142.860</td>\n",
       "      <td>698.804</td>\n",
       "      <td>-0.914714</td>\n",
       "      <td>...</td>\n",
       "      <td>10.89450</td>\n",
       "      <td>18.6223</td>\n",
       "      <td>-53.9855</td>\n",
       "      <td>1.21833</td>\n",
       "      <td>3.97336</td>\n",
       "      <td>56.0170</td>\n",
       "      <td>2192.04</td>\n",
       "      <td>3.0</td>\n",
       "      <td>-601.565</td>\n",
       "      <td>1.55895</td>\n",
       "    </tr>\n",
       "    <tr>\n",
       "      <th>1103</th>\n",
       "      <td>12_input_0174_0003_00010_0001_0004_0003</td>\n",
       "      <td>0.0</td>\n",
       "      <td>-1010.270</td>\n",
       "      <td>219.024</td>\n",
       "      <td>-486.888</td>\n",
       "      <td>2.16628</td>\n",
       "      <td>30.9470</td>\n",
       "      <td>139.902</td>\n",
       "      <td>688.443</td>\n",
       "      <td>0.867276</td>\n",
       "      <td>...</td>\n",
       "      <td>8.97354</td>\n",
       "      <td>24.0787</td>\n",
       "      <td>-54.9962</td>\n",
       "      <td>0.91792</td>\n",
       "      <td>1.08395</td>\n",
       "      <td>67.2630</td>\n",
       "      <td>2093.59</td>\n",
       "      <td>3.0</td>\n",
       "      <td>-614.380</td>\n",
       "      <td>1.43392</td>\n",
       "    </tr>\n",
       "    <tr>\n",
       "      <th>1198</th>\n",
       "      <td>13_input_0076_0004_0007_0005_0002_0001</td>\n",
       "      <td>0.0</td>\n",
       "      <td>-983.165</td>\n",
       "      <td>220.639</td>\n",
       "      <td>-496.950</td>\n",
       "      <td>2.16887</td>\n",
       "      <td>31.8985</td>\n",
       "      <td>142.286</td>\n",
       "      <td>700.500</td>\n",
       "      <td>0.914689</td>\n",
       "      <td>...</td>\n",
       "      <td>29.73270</td>\n",
       "      <td>17.0767</td>\n",
       "      <td>-57.0175</td>\n",
       "      <td>1.65645</td>\n",
       "      <td>0.54377</td>\n",
       "      <td>60.3883</td>\n",
       "      <td>2248.31</td>\n",
       "      <td>3.0</td>\n",
       "      <td>-592.835</td>\n",
       "      <td>2.11148</td>\n",
       "    </tr>\n",
       "    <tr>\n",
       "      <th>1268</th>\n",
       "      <td>13_input_0141_0002_00021_0004_0002_0005</td>\n",
       "      <td>0.0</td>\n",
       "      <td>-978.350</td>\n",
       "      <td>216.455</td>\n",
       "      <td>-481.998</td>\n",
       "      <td>2.18386</td>\n",
       "      <td>32.8819</td>\n",
       "      <td>135.296</td>\n",
       "      <td>681.530</td>\n",
       "      <td>1.171380</td>\n",
       "      <td>...</td>\n",
       "      <td>14.96110</td>\n",
       "      <td>18.5312</td>\n",
       "      <td>-55.8081</td>\n",
       "      <td>1.72674</td>\n",
       "      <td>3.99325</td>\n",
       "      <td>55.7467</td>\n",
       "      <td>2170.02</td>\n",
       "      <td>3.0</td>\n",
       "      <td>-586.010</td>\n",
       "      <td>1.63630</td>\n",
       "    </tr>\n",
       "    <tr>\n",
       "      <th>1272</th>\n",
       "      <td>13_input_0141_0002_00021_0004_0002_0009</td>\n",
       "      <td>0.0</td>\n",
       "      <td>-986.401</td>\n",
       "      <td>217.318</td>\n",
       "      <td>-472.677</td>\n",
       "      <td>2.19191</td>\n",
       "      <td>32.8988</td>\n",
       "      <td>136.513</td>\n",
       "      <td>675.924</td>\n",
       "      <td>0.261760</td>\n",
       "      <td>...</td>\n",
       "      <td>16.86140</td>\n",
       "      <td>20.0755</td>\n",
       "      <td>-58.3697</td>\n",
       "      <td>1.29863</td>\n",
       "      <td>1.65336</td>\n",
       "      <td>61.5507</td>\n",
       "      <td>2042.52</td>\n",
       "      <td>3.0</td>\n",
       "      <td>-598.135</td>\n",
       "      <td>1.58586</td>\n",
       "    </tr>\n",
       "    <tr>\n",
       "      <th>1292</th>\n",
       "      <td>13_input_0141_0002_00022_0005_0005_0007</td>\n",
       "      <td>0.0</td>\n",
       "      <td>-977.999</td>\n",
       "      <td>214.428</td>\n",
       "      <td>-477.111</td>\n",
       "      <td>2.20492</td>\n",
       "      <td>33.5851</td>\n",
       "      <td>143.060</td>\n",
       "      <td>670.395</td>\n",
       "      <td>1.182380</td>\n",
       "      <td>...</td>\n",
       "      <td>2.77391</td>\n",
       "      <td>18.7861</td>\n",
       "      <td>-57.9504</td>\n",
       "      <td>0.69650</td>\n",
       "      <td>3.05710</td>\n",
       "      <td>61.3328</td>\n",
       "      <td>2256.70</td>\n",
       "      <td>3.0</td>\n",
       "      <td>-605.476</td>\n",
       "      <td>2.17866</td>\n",
       "    </tr>\n",
       "  </tbody>\n",
       "</table>\n",
       "<p>10 rows × 31 columns</p>\n",
       "</div>"
      ],
      "text/plain": [
       "                                  description  dslf_fa13    fa_atr   fa_dun  \\\n",
       "3231    1_input_0034_0005_0008_0003_0003_0001        0.0  -965.723  212.681   \n",
       "3678  20_input_0142_0004_00017_0003_0006_0009        0.0  -994.807  209.040   \n",
       "3752  20_input_0173_0003_00017_0004_0009_0006        0.0  -981.003  230.452   \n",
       "1      0_input_0069_0003_00010_0001_0002_0001        0.0  -953.029  233.222   \n",
       "12      0_input_0069_0003_0006_0004_0004_0001        0.0  -988.026  217.014   \n",
       "1103  12_input_0174_0003_00010_0001_0004_0003        0.0 -1010.270  219.024   \n",
       "1198   13_input_0076_0004_0007_0005_0002_0001        0.0  -983.165  220.639   \n",
       "1268  13_input_0141_0002_00021_0004_0002_0005        0.0  -978.350  216.455   \n",
       "1272  13_input_0141_0002_00021_0004_0002_0009        0.0  -986.401  217.318   \n",
       "1292  13_input_0141_0002_00022_0005_0005_0007        0.0  -977.999  214.428   \n",
       "\n",
       "      fa_elec  fa_intra_rep  fa_intra_sol_xover4   fa_rep   fa_sol  \\\n",
       "3231 -495.569       2.13800              30.2249  139.091  691.647   \n",
       "3678 -469.324       2.13394              30.9301  142.528  691.058   \n",
       "3752 -536.242       2.18582              35.6764  140.786  734.818   \n",
       "1    -515.929       2.06844              32.1801  133.150  711.438   \n",
       "12   -497.183       2.11401              31.9762  142.860  698.804   \n",
       "1103 -486.888       2.16628              30.9470  139.902  688.443   \n",
       "1198 -496.950       2.16887              31.8985  142.286  700.500   \n",
       "1268 -481.998       2.18386              32.8819  135.296  681.530   \n",
       "1272 -472.677       2.19191              32.8988  136.513  675.924   \n",
       "1292 -477.111       2.20492              33.5851  143.060  670.395   \n",
       "\n",
       "      gly_holes_atm  ...  network_holes_res    omega  p_aa_pp  pro_close  \\\n",
       "3231       1.696950  ...           20.51510  19.9649 -60.3512    1.65119   \n",
       "3678      -1.092970  ...           -6.33542  20.0677 -59.4912    0.68528   \n",
       "3752       1.639720  ...           35.27670  17.9496 -52.5015    1.18451   \n",
       "1          2.093730  ...            3.74976  21.5317 -53.5293    1.82101   \n",
       "12        -0.914714  ...           10.89450  18.6223 -53.9855    1.21833   \n",
       "1103       0.867276  ...            8.97354  24.0787 -54.9962    0.91792   \n",
       "1198       0.914689  ...           29.73270  17.0767 -57.0175    1.65645   \n",
       "1268       1.171380  ...           14.96110  18.5312 -55.8081    1.72674   \n",
       "1272       0.261760  ...           16.86140  20.0755 -58.3697    1.29863   \n",
       "1292       1.182380  ...            2.77391  18.7861 -57.9504    0.69650   \n",
       "\n",
       "      rama_prepro      ref     sasa  sc_heavy_unsat    total  yhh_planarity  \n",
       "3231     -0.24558  66.1376  2221.58             4.0 -594.617        2.63221  \n",
       "3678      0.20551  60.9079  1904.50             4.0 -605.547        2.89616  \n",
       "3752      4.27246  33.2952  2022.71             4.0 -594.096        1.72912  \n",
       "1        -1.58657  25.7583  2360.46             3.0 -592.617        2.04212  \n",
       "12        3.97336  56.0170  2192.04             3.0 -601.565        1.55895  \n",
       "1103      1.08395  67.2630  2093.59             3.0 -614.380        1.43392  \n",
       "1198      0.54377  60.3883  2248.31             3.0 -592.835        2.11148  \n",
       "1268      3.99325  55.7467  2170.02             3.0 -586.010        1.63630  \n",
       "1272      1.65336  61.5507  2042.52             3.0 -598.135        1.58586  \n",
       "1292      3.05710  61.3328  2256.70             3.0 -605.476        2.17866  \n",
       "\n",
       "[10 rows x 31 columns]"
      ]
     },
     "execution_count": 39,
     "metadata": {},
     "output_type": "execute_result"
    }
   ],
   "source": [
    "dsc.nlargest(10, 'sc_heavy_unsat')"
   ]
  },
  {
   "cell_type": "code",
   "execution_count": 11,
   "metadata": {},
   "outputs": [
    {
     "name": "stdout",
     "output_type": "stream",
     "text": [
      "       HBNet_NumUnsatHpol_Y114  HBNet_NumUnsatHpol_Y26  HBNet_Score_Y114  \\\n",
      "0                          0.0                     0.0          -3.62420   \n",
      "1                          0.0                     0.0          -3.36230   \n",
      "2                          0.0                     0.0          -3.30417   \n",
      "3                          0.0                     0.0          -3.06816   \n",
      "4                          0.0                     0.0          -3.41150   \n",
      "...                        ...                     ...               ...   \n",
      "10918                      NaN                     NaN               NaN   \n",
      "10919                      NaN                     NaN               NaN   \n",
      "10920                      0.0                     NaN          -3.32517   \n",
      "10921                      NaN                     NaN               NaN   \n",
      "10922                      NaN                     NaN               NaN   \n",
      "\n",
      "       HBNet_Score_Y26  HBNet_saturation_Y114  HBNet_saturation_Y26  \\\n",
      "0             -3.57618               0.466667              0.454545   \n",
      "1             -3.10169               0.466667              0.571429   \n",
      "2             -3.13040               0.454545              0.571429   \n",
      "3             -3.10974               0.500000              0.571429   \n",
      "4             -3.01462               0.466667              0.571429   \n",
      "...                ...                    ...                   ...   \n",
      "10918              NaN                    NaN                   NaN   \n",
      "10919              NaN                    NaN                   NaN   \n",
      "10920              NaN               0.555556                   NaN   \n",
      "10921              NaN                    NaN                   NaN   \n",
      "10922              NaN                    NaN                   NaN   \n",
      "\n",
      "                                  description  n_hbonds_Y114  n_hbonds_Y26  \\\n",
      "0           0_input_0069_0003_00010_0001_0002            4.0           3.0   \n",
      "1      0_input_0069_0003_00010_0001_0002_0001            4.0           4.0   \n",
      "2      0_input_0069_0003_00010_0001_0002_0002            3.0           4.0   \n",
      "3      0_input_0069_0003_00010_0001_0002_0003            7.0           4.0   \n",
      "4      0_input_0069_0003_00010_0001_0002_0004            4.0           4.0   \n",
      "...                                       ...            ...           ...   \n",
      "10918   9_input_0062_0004_0008_0005_0004_0006            NaN           NaN   \n",
      "10919   9_input_0062_0004_0008_0005_0004_0007            NaN           NaN   \n",
      "10920   9_input_0062_0004_0008_0005_0004_0008            3.0           NaN   \n",
      "10921   9_input_0062_0004_0008_0005_0004_0009            NaN           NaN   \n",
      "10922   9_input_0062_0004_0008_0005_0004_0010            NaN           NaN   \n",
      "\n",
      "       n_res_network_Y114  n_res_network_Y26            network_Y114  \\\n",
      "0                     2.0                2.0               [84, 114]   \n",
      "1                     2.0                2.0               [84, 114]   \n",
      "2                     2.0                2.0               [84, 114]   \n",
      "3                     5.0                2.0  [80, 82, 84, 102, 114]   \n",
      "4                     2.0                2.0               [84, 114]   \n",
      "...                   ...                ...                     ...   \n",
      "10918                 NaN                NaN                     NaN   \n",
      "10919                 NaN                NaN                     NaN   \n",
      "10920                 2.0                NaN               [84, 114]   \n",
      "10921                 NaN                NaN                     NaN   \n",
      "10922                 NaN                NaN                     NaN   \n",
      "\n",
      "      network_Y26                                   network_cst_Y114  \\\n",
      "0        [12, 26]  # 0_input_0069_0003_00010_0001_0002_0001_nativ...   \n",
      "1        [12, 26]  # 0_input_0069_0003_00010_0001_0002_0001_0001_...   \n",
      "2        [12, 26]  # 0_input_0069_0003_00010_0001_0002_0002_0001_...   \n",
      "3        [12, 26]  # 0_input_0069_0003_00010_0001_0002_0003_0001_...   \n",
      "4        [12, 26]  # 0_input_0069_0003_00010_0001_0002_0004_0001_...   \n",
      "...           ...                                                ...   \n",
      "10918         NaN                                                NaN   \n",
      "10919         NaN                                                NaN   \n",
      "10920         NaN  # 9_input_0062_0004_0008_0005_0004_0008_0001_n...   \n",
      "10921         NaN                                                NaN   \n",
      "10922         NaN                                                NaN   \n",
      "\n",
      "                                         network_cst_Y26  \n",
      "0      # 0_input_0069_0003_00010_0001_0002_0001_nativ...  \n",
      "1      # 0_input_0069_0003_00010_0001_0002_0001_0001_...  \n",
      "2      # 0_input_0069_0003_00010_0001_0002_0002_0001_...  \n",
      "3      # 0_input_0069_0003_00010_0001_0002_0003_0001_...  \n",
      "4      # 0_input_0069_0003_00010_0001_0002_0004_0001_...  \n",
      "...                                                  ...  \n",
      "10918                                                NaN  \n",
      "10919                                                NaN  \n",
      "10920                                                NaN  \n",
      "10921                                                NaN  \n",
      "10922                                                NaN  \n",
      "\n",
      "[10923 rows x 15 columns]\n"
     ]
    }
   ],
   "source": [
    "dhbnet = pd.DataFrame()\n",
    "for item in net_list:\n",
    "    net_score = {}\n",
    "    for file in glob.glob(\"network_filter_fasol09/\"+item+\"/*_nativenetwork_*.pdb\"):\n",
    "        net_res = []\n",
    "        cst_file = file.replace('nativenetwork', 'native_network')\n",
    "        cst_file = cst_file.replace('pdb', 'cst')\n",
    "        cst = \"\"\n",
    "        n_hbonds = 0\n",
    "#        net_score[\"net_tyr26\"] = False\n",
    "        with open(cst_file, 'r') as cst_i:\n",
    "            for line in cst_i:\n",
    "                if \"AtomPair\" in line:\n",
    "                    cst += line[1:]\n",
    "                    n_hbonds += 1\n",
    "                else:\n",
    "                    cst += line\n",
    "#        net_score[\"net_tyr114\"] = False        \n",
    "        with open(file, 'r') as in_net:\n",
    "            for line in in_net:\n",
    "                if \"ATOM \" in line:\n",
    "                    res_num = int(line.split()[5])\n",
    "                    res_name = line.split()[3]\n",
    "                    if res_name not in [\"ALA\",\"GLY\",\"PRO\"] and res_num not in net_res:\n",
    "                        net_res.append(res_num)\n",
    "                    if res_name == \"TYR\" and res_num == 26:\n",
    "                        for line in in_net:\n",
    "                            if \"HBNet_NumUnsatHpol\" in line:\n",
    "                                net_score[\"HBNet_NumUnsatHpol_Y26\"] = float(line.split(\" \")[1])\n",
    "                            elif \"HBNet_Saturation\" in line:\n",
    "                                net_score[\"HBNet_saturation_Y26\"] = float(line.split(\" \")[1])\n",
    "                            elif \"HBNet_Score\" in line:\n",
    "                                net_score[\"HBNet_Score_Y26\"] = float(line.split(\" \")[1])\n",
    "                        net_score[\"network_Y26\"] = net_res\n",
    "                        net_score[\"n_res_network_Y26\"] = len(net_res)\n",
    "                        net_score[\"network_cst_Y26\"] = cst\n",
    "                        net_score[\"n_hbonds_Y26\"] = n_hbonds\n",
    "                    elif res_name == \"TYR\" and res_num == 114:\n",
    "                        for line in in_net:\n",
    "                            if \"HBNet_NumUnsatHpol\" in line:\n",
    "                                net_score[\"HBNet_NumUnsatHpol_Y114\"] = float(line.split(\" \")[1])\n",
    "                            elif \"HBNet_Saturation\" in line:\n",
    "                                net_score[\"HBNet_saturation_Y114\"] = float(line.split(\" \")[1])\n",
    "                            elif \"HBNet_Score\" in line:\n",
    "                                net_score[\"HBNet_Score_Y114\"] = float(line.split(\" \")[1])\n",
    "                        net_score[\"network_Y114\"] = net_res\n",
    "                        net_score[\"n_res_network_Y114\"] = len(net_res)\n",
    "                        net_score[\"network_cst_Y114\"] = cst\n",
    "                        net_score[\"n_hbonds_Y114\"] = n_hbonds\n",
    "    net_score[\"description\"] = item\n",
    "\n",
    "#        if 10 in net_score[\"network\"]:\n",
    "#            net_score[\"net_tyr10\"] = True\n",
    "#        else:\n",
    "#            net_score[\"net_tyr10\"] = False\n",
    "#        if 68 in net_score[\"network\"]:\n",
    "#            net_score[\"net_tyr68\"] = True\n",
    "#        else:\n",
    "#            net_score[\"net_tyr68\"] = False\n",
    "    dhbnet = dhbnet.append(net_score, ignore_index=True)\n",
    "print(dhbnet)"
   ]
  },
  {
   "cell_type": "code",
   "execution_count": 12,
   "metadata": {},
   "outputs": [
    {
     "name": "stdout",
     "output_type": "stream",
     "text": [
      "       HBNet_NumUnsatHpol_Y114  HBNet_NumUnsatHpol_Y26  HBNet_Score_Y114  \\\n",
      "0                          0.0                     0.0          -3.62420   \n",
      "1                          0.0                     0.0          -3.36230   \n",
      "2                          0.0                     0.0          -3.30417   \n",
      "3                          0.0                     0.0          -3.06816   \n",
      "4                          0.0                     0.0          -3.41150   \n",
      "...                        ...                     ...               ...   \n",
      "10918                      NaN                     NaN               NaN   \n",
      "10919                      NaN                     NaN               NaN   \n",
      "10920                      0.0                     NaN          -3.32517   \n",
      "10921                      NaN                     NaN               NaN   \n",
      "10922                      NaN                     NaN               NaN   \n",
      "\n",
      "       HBNet_Score_Y26  HBNet_saturation_Y114  HBNet_saturation_Y26  \\\n",
      "0             -3.57618               0.466667              0.454545   \n",
      "1             -3.10169               0.466667              0.571429   \n",
      "2             -3.13040               0.454545              0.571429   \n",
      "3             -3.10974               0.500000              0.571429   \n",
      "4             -3.01462               0.466667              0.571429   \n",
      "...                ...                    ...                   ...   \n",
      "10918              NaN                    NaN                   NaN   \n",
      "10919              NaN                    NaN                   NaN   \n",
      "10920              NaN               0.555556                   NaN   \n",
      "10921              NaN                    NaN                   NaN   \n",
      "10922              NaN                    NaN                   NaN   \n",
      "\n",
      "                                  description  n_hbonds_Y114  n_hbonds_Y26  \\\n",
      "0           0_input_0069_0003_00010_0001_0002            4.0           3.0   \n",
      "1      0_input_0069_0003_00010_0001_0002_0001            4.0           4.0   \n",
      "2      0_input_0069_0003_00010_0001_0002_0002            3.0           4.0   \n",
      "3      0_input_0069_0003_00010_0001_0002_0003            7.0           4.0   \n",
      "4      0_input_0069_0003_00010_0001_0002_0004            4.0           4.0   \n",
      "...                                       ...            ...           ...   \n",
      "10918   9_input_0062_0004_0008_0005_0004_0006            NaN           NaN   \n",
      "10919   9_input_0062_0004_0008_0005_0004_0007            NaN           NaN   \n",
      "10920   9_input_0062_0004_0008_0005_0004_0008            3.0           NaN   \n",
      "10921   9_input_0062_0004_0008_0005_0004_0009            NaN           NaN   \n",
      "10922   9_input_0062_0004_0008_0005_0004_0010            NaN           NaN   \n",
      "\n",
      "       n_res_network_Y114  n_res_network_Y26            network_Y114  \\\n",
      "0                     2.0                2.0               [84, 114]   \n",
      "1                     2.0                2.0               [84, 114]   \n",
      "2                     2.0                2.0               [84, 114]   \n",
      "3                     5.0                2.0  [80, 82, 84, 102, 114]   \n",
      "4                     2.0                2.0               [84, 114]   \n",
      "...                   ...                ...                     ...   \n",
      "10918                 NaN                NaN                     NaN   \n",
      "10919                 NaN                NaN                     NaN   \n",
      "10920                 2.0                NaN               [84, 114]   \n",
      "10921                 NaN                NaN                     NaN   \n",
      "10922                 NaN                NaN                     NaN   \n",
      "\n",
      "      network_Y26                                   network_cst_Y114  \\\n",
      "0        [12, 26]  # 0_input_0069_0003_00010_0001_0002_0001_nativ...   \n",
      "1        [12, 26]  # 0_input_0069_0003_00010_0001_0002_0001_0001_...   \n",
      "2        [12, 26]  # 0_input_0069_0003_00010_0001_0002_0002_0001_...   \n",
      "3        [12, 26]  # 0_input_0069_0003_00010_0001_0002_0003_0001_...   \n",
      "4        [12, 26]  # 0_input_0069_0003_00010_0001_0002_0004_0001_...   \n",
      "...           ...                                                ...   \n",
      "10918         NaN                                                NaN   \n",
      "10919         NaN                                                NaN   \n",
      "10920         NaN  # 9_input_0062_0004_0008_0005_0004_0008_0001_n...   \n",
      "10921         NaN                                                NaN   \n",
      "10922         NaN                                                NaN   \n",
      "\n",
      "                                         network_cst_Y26  saturation_Y26  \\\n",
      "0      # 0_input_0069_0003_00010_0001_0002_0001_nativ...             1.5   \n",
      "1      # 0_input_0069_0003_00010_0001_0002_0001_0001_...             2.0   \n",
      "2      # 0_input_0069_0003_00010_0001_0002_0002_0001_...             2.0   \n",
      "3      # 0_input_0069_0003_00010_0001_0002_0003_0001_...             2.0   \n",
      "4      # 0_input_0069_0003_00010_0001_0002_0004_0001_...             2.0   \n",
      "...                                                  ...             ...   \n",
      "10918                                                NaN             NaN   \n",
      "10919                                                NaN             NaN   \n",
      "10920                                                NaN             NaN   \n",
      "10921                                                NaN             NaN   \n",
      "10922                                                NaN             NaN   \n",
      "\n",
      "       saturation_Y114  \n",
      "0                  2.0  \n",
      "1                  2.0  \n",
      "2                  1.5  \n",
      "3                  1.4  \n",
      "4                  2.0  \n",
      "...                ...  \n",
      "10918              NaN  \n",
      "10919              NaN  \n",
      "10920              1.5  \n",
      "10921              NaN  \n",
      "10922              NaN  \n",
      "\n",
      "[10923 rows x 17 columns]\n"
     ]
    }
   ],
   "source": [
    "# dhbnet[\"tyrs\"] = dhbnet[\"net_tyr26\"] + dhbnet[\"net_tyr114\"]\n",
    "dhbnet[\"saturation_Y26\"] = dhbnet[\"n_hbonds_Y26\"]/dhbnet[\"n_res_network_Y26\"]\n",
    "dhbnet[\"saturation_Y114\"] = dhbnet[\"n_hbonds_Y114\"]/dhbnet[\"n_res_network_Y114\"]\n",
    "\n",
    "print(dhbnet)"
   ]
  },
  {
   "cell_type": "code",
   "execution_count": 13,
   "metadata": {},
   "outputs": [],
   "source": [
    "dhbnet.to_pickle('networks.pickle')"
   ]
  },
  {
   "cell_type": "code",
   "execution_count": 7,
   "metadata": {},
   "outputs": [],
   "source": [
    "dhbnet = pd.read_pickle('networks.pickle')"
   ]
  },
  {
   "cell_type": "code",
   "execution_count": 8,
   "metadata": {},
   "outputs": [
    {
     "name": "stdout",
     "output_type": "stream",
     "text": [
      "Empty DataFrame\n",
      "Columns: [HBNet_NumUnsatHpol, HBNet_Score, HBNet_saturation, description, n_hbonds, n_res_network, net_tyr114, net_tyr26, network, network_cst, tyrs, saturation]\n",
      "Index: []\n"
     ]
    }
   ],
   "source": [
    "print(dhbnet.loc[dhbnet[\"description\"] == \"49__input_0063_0003_5_0005_0006_0009\"])"
   ]
  },
  {
   "cell_type": "code",
   "execution_count": 14,
   "metadata": {},
   "outputs": [
    {
     "name": "stderr",
     "output_type": "stream",
     "text": [
      "/software/conda/envs/pyrosetta/lib/python3.7/site-packages/seaborn/distributions.py:2557: FutureWarning: `distplot` is a deprecated function and will be removed in a future version. Please adapt your code to use either `displot` (a figure-level function with similar flexibility) or `histplot` (an axes-level function for histograms).\n",
      "  warnings.warn(msg, FutureWarning)\n"
     ]
    },
    {
     "data": {
      "text/plain": [
       "<matplotlib.axes._subplots.AxesSubplot at 0x7fffc66cfcd0>"
      ]
     },
     "execution_count": 14,
     "metadata": {},
     "output_type": "execute_result"
    },
    {
     "data": {
      "image/png": "[encoded data removed]",
      "text/plain": [
       "<Figure size 432x288 with 1 Axes>"
      ]
     },
     "metadata": {
      "needs_background": "light"
     },
     "output_type": "display_data"
    }
   ],
   "source": [
    "# select based on the quality of the network: good hbond_sc, n_hbonds, presence of 10 or 68, good network energy.\n",
    "sns.distplot(dhbnet[\"HBNet_Score_Y26\"], bins=40)"
   ]
  },
  {
   "cell_type": "code",
   "execution_count": 15,
   "metadata": {},
   "outputs": [
    {
     "name": "stderr",
     "output_type": "stream",
     "text": [
      "/software/conda/envs/pyrosetta/lib/python3.7/site-packages/seaborn/distributions.py:2557: FutureWarning: `distplot` is a deprecated function and will be removed in a future version. Please adapt your code to use either `displot` (a figure-level function with similar flexibility) or `histplot` (an axes-level function for histograms).\n",
      "  warnings.warn(msg, FutureWarning)\n"
     ]
    },
    {
     "data": {
      "text/plain": [
       "<matplotlib.axes._subplots.AxesSubplot at 0x7fffc8007590>"
      ]
     },
     "execution_count": 15,
     "metadata": {},
     "output_type": "execute_result"
    },
    {
     "data": {
      "image/png": "[encoded data removed]",
      "text/plain": [
       "<Figure size 432x288 with 1 Axes>"
      ]
     },
     "metadata": {
      "needs_background": "light"
     },
     "output_type": "display_data"
    }
   ],
   "source": [
    "# select based on the quality of the network: good hbond_sc, n_hbonds, presence of 10 or 68, good network energy.\n",
    "sns.distplot(dhbnet[\"HBNet_Score_Y114\"], bins=40)"
   ]
  },
  {
   "cell_type": "code",
   "execution_count": 16,
   "metadata": {},
   "outputs": [
    {
     "name": "stderr",
     "output_type": "stream",
     "text": [
      "/software/conda/envs/pyrosetta/lib/python3.7/site-packages/seaborn/distributions.py:2557: FutureWarning: `distplot` is a deprecated function and will be removed in a future version. Please adapt your code to use either `displot` (a figure-level function with similar flexibility) or `histplot` (an axes-level function for histograms).\n",
      "  warnings.warn(msg, FutureWarning)\n"
     ]
    },
    {
     "data": {
      "text/plain": [
       "<matplotlib.axes._subplots.AxesSubplot at 0x7fffc6312a50>"
      ]
     },
     "execution_count": 16,
     "metadata": {},
     "output_type": "execute_result"
    },
    {
     "data": {
      "image/png": "[encoded data removed]",
      "text/plain": [
       "<Figure size 432x288 with 1 Axes>"
      ]
     },
     "metadata": {
      "needs_background": "light"
     },
     "output_type": "display_data"
    }
   ],
   "source": [
    "sns.distplot(dhbnet[\"HBNet_saturation_Y26\"], bins=40)"
   ]
  },
  {
   "cell_type": "code",
   "execution_count": 17,
   "metadata": {},
   "outputs": [
    {
     "name": "stderr",
     "output_type": "stream",
     "text": [
      "/software/conda/envs/pyrosetta/lib/python3.7/site-packages/seaborn/distributions.py:2557: FutureWarning: `distplot` is a deprecated function and will be removed in a future version. Please adapt your code to use either `displot` (a figure-level function with similar flexibility) or `histplot` (an axes-level function for histograms).\n",
      "  warnings.warn(msg, FutureWarning)\n"
     ]
    },
    {
     "data": {
      "text/plain": [
       "<matplotlib.axes._subplots.AxesSubplot at 0x7fffc6210f10>"
      ]
     },
     "execution_count": 17,
     "metadata": {},
     "output_type": "execute_result"
    },
    {
     "data": {
      "image/png": "[encoded data removed]",
      "text/plain": [
       "<Figure size 432x288 with 1 Axes>"
      ]
     },
     "metadata": {
      "needs_background": "light"
     },
     "output_type": "display_data"
    }
   ],
   "source": [
    "sns.distplot(dhbnet[\"HBNet_saturation_Y114\"], bins=40)"
   ]
  },
  {
   "cell_type": "code",
   "execution_count": 18,
   "metadata": {},
   "outputs": [
    {
     "name": "stderr",
     "output_type": "stream",
     "text": [
      "/software/conda/envs/pyrosetta/lib/python3.7/site-packages/seaborn/_decorators.py:43: FutureWarning: Pass the following variable as a keyword arg: x. From version 0.12, the only valid positional argument will be `data`, and passing other arguments without an explicit keyword will result in an error or misinterpretation.\n",
      "  FutureWarning\n"
     ]
    },
    {
     "data": {
      "text/plain": [
       "<matplotlib.axes._subplots.AxesSubplot at 0x7fffc616c610>"
      ]
     },
     "execution_count": 18,
     "metadata": {},
     "output_type": "execute_result"
    },
    {
     "data": {
      "image/png": "[encoded data removed]",
      "text/plain": [
       "<Figure size 432x288 with 1 Axes>"
      ]
     },
     "metadata": {
      "needs_background": "light"
     },
     "output_type": "display_data"
    }
   ],
   "source": [
    "sns.countplot(dhbnet[\"n_hbonds_Y26\"])"
   ]
  },
  {
   "cell_type": "code",
   "execution_count": 19,
   "metadata": {},
   "outputs": [
    {
     "name": "stderr",
     "output_type": "stream",
     "text": [
      "/software/conda/envs/pyrosetta/lib/python3.7/site-packages/seaborn/_decorators.py:43: FutureWarning: Pass the following variable as a keyword arg: x. From version 0.12, the only valid positional argument will be `data`, and passing other arguments without an explicit keyword will result in an error or misinterpretation.\n",
      "  FutureWarning\n"
     ]
    },
    {
     "data": {
      "text/plain": [
       "<matplotlib.axes._subplots.AxesSubplot at 0x7fffc6178e10>"
      ]
     },
     "execution_count": 19,
     "metadata": {},
     "output_type": "execute_result"
    },
    {
     "data": {
      "image/png": "[encoded data removed]",
      "text/plain": [
       "<Figure size 432x288 with 1 Axes>"
      ]
     },
     "metadata": {
      "needs_background": "light"
     },
     "output_type": "display_data"
    }
   ],
   "source": [
    "sns.countplot(dhbnet[\"n_hbonds_Y114\"])"
   ]
  },
  {
   "cell_type": "code",
   "execution_count": 20,
   "metadata": {},
   "outputs": [
    {
     "name": "stderr",
     "output_type": "stream",
     "text": [
      "/software/conda/envs/pyrosetta/lib/python3.7/site-packages/seaborn/_decorators.py:43: FutureWarning: Pass the following variable as a keyword arg: x. From version 0.12, the only valid positional argument will be `data`, and passing other arguments without an explicit keyword will result in an error or misinterpretation.\n",
      "  FutureWarning\n"
     ]
    },
    {
     "data": {
      "text/plain": [
       "<matplotlib.axes._subplots.AxesSubplot at 0x7fffc5f49e90>"
      ]
     },
     "execution_count": 20,
     "metadata": {},
     "output_type": "execute_result"
    },
    {
     "data": {
      "image/png": "[encoded data removed]",
      "text/plain": [
       "<Figure size 432x288 with 1 Axes>"
      ]
     },
     "metadata": {
      "needs_background": "light"
     },
     "output_type": "display_data"
    }
   ],
   "source": [
    "sns.countplot(dhbnet[\"n_res_network_Y26\"])"
   ]
  },
  {
   "cell_type": "code",
   "execution_count": 29,
   "metadata": {},
   "outputs": [
    {
     "name": "stderr",
     "output_type": "stream",
     "text": [
      "/software/conda/envs/pyrosetta/lib/python3.7/site-packages/seaborn/_decorators.py:43: FutureWarning: Pass the following variable as a keyword arg: x. From version 0.12, the only valid positional argument will be `data`, and passing other arguments without an explicit keyword will result in an error or misinterpretation.\n",
      "  FutureWarning\n"
     ]
    },
    {
     "data": {
      "text/plain": [
       "<matplotlib.axes._subplots.AxesSubplot at 0x7f75484f3790>"
      ]
     },
     "execution_count": 29,
     "metadata": {},
     "output_type": "execute_result"
    },
    {
     "data": {
      "image/png": "[encoded data removed]",
      "text/plain": [
       "<Figure size 432x288 with 1 Axes>"
      ]
     },
     "metadata": {
      "needs_background": "light"
     },
     "output_type": "display_data"
    }
   ],
   "source": [
    "sns.countplot(dhbnet[\"n_res_network_Y114\"])"
   ]
  },
  {
   "cell_type": "code",
   "execution_count": 47,
   "metadata": {},
   "outputs": [
    {
     "name": "stderr",
     "output_type": "stream",
     "text": [
      "/software/conda/envs/pyrosetta/lib/python3.7/site-packages/seaborn/distributions.py:2557: FutureWarning: `distplot` is a deprecated function and will be removed in a future version. Please adapt your code to use either `displot` (a figure-level function with similar flexibility) or `histplot` (an axes-level function for histograms).\n",
      "  warnings.warn(msg, FutureWarning)\n"
     ]
    },
    {
     "data": {
      "text/plain": [
       "<matplotlib.axes._subplots.AxesSubplot at 0x7fffc85aa290>"
      ]
     },
     "execution_count": 47,
     "metadata": {},
     "output_type": "execute_result"
    },
    {
     "data": {
      "image/png": "[encoded data removed]",
      "text/plain": [
       "<Figure size 432x288 with 1 Axes>"
      ]
     },
     "metadata": {
      "needs_background": "light"
     },
     "output_type": "display_data"
    }
   ],
   "source": [
    "sns.distplot(dhbnet[\"saturation\"], bins=40)"
   ]
  },
  {
   "cell_type": "code",
   "execution_count": 38,
   "metadata": {},
   "outputs": [
    {
     "name": "stderr",
     "output_type": "stream",
     "text": [
      "/software/conda/envs/pyrosetta/lib/python3.7/site-packages/seaborn/_decorators.py:43: FutureWarning: Pass the following variable as a keyword arg: x. From version 0.12, the only valid positional argument will be `data`, and passing other arguments without an explicit keyword will result in an error or misinterpretation.\n",
      "  FutureWarning\n"
     ]
    },
    {
     "data": {
      "text/plain": [
       "<matplotlib.axes._subplots.AxesSubplot at 0x7fffc5810dd0>"
      ]
     },
     "execution_count": 38,
     "metadata": {},
     "output_type": "execute_result"
    },
    {
     "data": {
      "image/png": "[encoded data removed]",
      "text/plain": [
       "<Figure size 432x288 with 1 Axes>"
      ]
     },
     "metadata": {
      "needs_background": "light"
     },
     "output_type": "display_data"
    }
   ],
   "source": [
    "sns.countplot(dhbnet[\"n_res_network_Y114\"])"
   ]
  },
  {
   "cell_type": "code",
   "execution_count": 6,
   "metadata": {},
   "outputs": [
    {
     "ename": "NameError",
     "evalue": "name 'dsc' is not defined",
     "output_type": "error",
     "traceback": [
      "\u001b[0;31m---------------------------------------------------------------------------\u001b[0m",
      "\u001b[0;31mNameError\u001b[0m                                 Traceback (most recent call last)",
      "\u001b[0;32m<ipython-input-6-ca3153aba29d>\u001b[0m in \u001b[0;36m<module>\u001b[0;34m\u001b[0m\n\u001b[0;32m----> 1\u001b[0;31m \u001b[0mdf\u001b[0m \u001b[0;34m=\u001b[0m \u001b[0mpd\u001b[0m\u001b[0;34m.\u001b[0m\u001b[0mmerge\u001b[0m\u001b[0;34m(\u001b[0m\u001b[0mdsc\u001b[0m\u001b[0;34m,\u001b[0m \u001b[0mdhbnet\u001b[0m\u001b[0;34m,\u001b[0m \u001b[0mhow\u001b[0m\u001b[0;34m=\u001b[0m\u001b[0;34m'left'\u001b[0m\u001b[0;34m,\u001b[0m \u001b[0mon\u001b[0m\u001b[0;34m=\u001b[0m\u001b[0;34m[\u001b[0m\u001b[0;34m'description'\u001b[0m\u001b[0;34m]\u001b[0m\u001b[0;34m)\u001b[0m\u001b[0;34m\u001b[0m\u001b[0;34m\u001b[0m\u001b[0m\n\u001b[0m\u001b[1;32m      2\u001b[0m \u001b[0mdf\u001b[0m \u001b[0;34m=\u001b[0m \u001b[0mdf\u001b[0m\u001b[0;34m.\u001b[0m\u001b[0mloc\u001b[0m\u001b[0;34m[\u001b[0m\u001b[0;34m~\u001b[0m\u001b[0mdf\u001b[0m\u001b[0;34m.\u001b[0m\u001b[0mnetwork_Y114\u001b[0m\u001b[0;34m.\u001b[0m\u001b[0misnull\u001b[0m\u001b[0;34m(\u001b[0m\u001b[0;34m)\u001b[0m\u001b[0;34m]\u001b[0m\u001b[0;34m\u001b[0m\u001b[0;34m\u001b[0m\u001b[0m\n\u001b[1;32m      3\u001b[0m \u001b[0mdf\u001b[0m \u001b[0;34m=\u001b[0m \u001b[0mdf\u001b[0m\u001b[0;34m.\u001b[0m\u001b[0mloc\u001b[0m\u001b[0;34m[\u001b[0m\u001b[0;34m~\u001b[0m\u001b[0mdf\u001b[0m\u001b[0;34m.\u001b[0m\u001b[0mnetwork_Y26\u001b[0m\u001b[0;34m.\u001b[0m\u001b[0misnull\u001b[0m\u001b[0;34m(\u001b[0m\u001b[0;34m)\u001b[0m\u001b[0;34m]\u001b[0m\u001b[0;34m\u001b[0m\u001b[0;34m\u001b[0m\u001b[0m\n\u001b[1;32m      4\u001b[0m \u001b[0mprint\u001b[0m\u001b[0;34m(\u001b[0m\u001b[0mdf\u001b[0m\u001b[0;34m)\u001b[0m\u001b[0;34m\u001b[0m\u001b[0;34m\u001b[0m\u001b[0m\n",
      "\u001b[0;31mNameError\u001b[0m: name 'dsc' is not defined"
     ]
    }
   ],
   "source": [
    "df = pd.merge(dsc, dhbnet, how='left', on=['description'])\n",
    "df = df.loc[~df.network_Y114.isnull()]\n",
    "df = df.loc[~df.network_Y26.isnull()]\n",
    "print(df)"
   ]
  },
  {
   "cell_type": "code",
   "execution_count": 22,
   "metadata": {},
   "outputs": [],
   "source": [
    "df.to_pickle('all_designs_with_hbnet.pickle')"
   ]
  },
  {
   "cell_type": "code",
   "execution_count": 7,
   "metadata": {},
   "outputs": [],
   "source": [
    "df = pd.read_pickle(\"all_designs_with_hbnet.pickle\")"
   ]
  },
  {
   "cell_type": "code",
   "execution_count": 8,
   "metadata": {},
   "outputs": [
    {
     "data": {
      "text/plain": [
       "(1795, 47)"
      ]
     },
     "execution_count": 8,
     "metadata": {},
     "output_type": "execute_result"
    }
   ],
   "source": [
    "dpicked = df.loc[(df[\"hbond_sc\"] < -30.0) & (df[\"HBNet_Score_Y114\"] < -2.5) & (df[\"HBNet_Score_Y26\"] < -2.5)& (df[\"omega\"] < 20)]\n",
    "dpicked.shape"
   ]
  },
  {
   "cell_type": "code",
   "execution_count": 9,
   "metadata": {},
   "outputs": [
    {
     "name": "stderr",
     "output_type": "stream",
     "text": [
      "/software/conda/envs/pyrosetta/lib/python3.7/site-packages/seaborn/_decorators.py:43: FutureWarning: Pass the following variable as a keyword arg: x. From version 0.12, the only valid positional argument will be `data`, and passing other arguments without an explicit keyword will result in an error or misinterpretation.\n",
      "  FutureWarning\n"
     ]
    },
    {
     "data": {
      "text/plain": [
       "<matplotlib.axes._subplots.AxesSubplot at 0x7fffc7f6d150>"
      ]
     },
     "execution_count": 9,
     "metadata": {},
     "output_type": "execute_result"
    },
    {
     "data": {
      "image/png": "[encoded data removed]",
      "text/plain": [
       "<Figure size 432x288 with 1 Axes>"
      ]
     },
     "metadata": {
      "needs_background": "light"
     },
     "output_type": "display_data"
    }
   ],
   "source": [
    "sns.countplot(dpicked[\"n_hbonds_Y114\"])"
   ]
  },
  {
   "cell_type": "code",
   "execution_count": 25,
   "metadata": {},
   "outputs": [
    {
     "name": "stderr",
     "output_type": "stream",
     "text": [
      "/software/conda/envs/pyrosetta/lib/python3.7/site-packages/seaborn/_decorators.py:43: FutureWarning: Pass the following variable as a keyword arg: x. From version 0.12, the only valid positional argument will be `data`, and passing other arguments without an explicit keyword will result in an error or misinterpretation.\n",
      "  FutureWarning\n"
     ]
    },
    {
     "data": {
      "text/plain": [
       "<matplotlib.axes._subplots.AxesSubplot at 0x7fffc66502d0>"
      ]
     },
     "execution_count": 25,
     "metadata": {},
     "output_type": "execute_result"
    },
    {
     "data": {
      "image/png": "[encoded data removed]",
      "text/plain": [
       "<Figure size 432x288 with 1 Axes>"
      ]
     },
     "metadata": {
      "needs_background": "light"
     },
     "output_type": "display_data"
    }
   ],
   "source": [
    "sns.countplot(dpicked[\"n_hbonds_Y26\"])"
   ]
  },
  {
   "cell_type": "code",
   "execution_count": 5,
   "metadata": {},
   "outputs": [
    {
     "data": {
      "text/plain": [
       "1795"
      ]
     },
     "execution_count": 5,
     "metadata": {},
     "output_type": "execute_result"
    }
   ],
   "source": [
    "len(dpicked.description.unique())"
   ]
  },
  {
   "cell_type": "code",
   "execution_count": null,
   "metadata": {},
   "outputs": [],
   "source": []
  },
  {
   "cell_type": "code",
   "execution_count": 27,
   "metadata": {},
   "outputs": [
    {
     "name": "stderr",
     "output_type": "stream",
     "text": [
      "/software/conda/envs/pyrosetta/lib/python3.7/site-packages/seaborn/distributions.py:2557: FutureWarning: `distplot` is a deprecated function and will be removed in a future version. Please adapt your code to use either `displot` (a figure-level function with similar flexibility) or `histplot` (an axes-level function for histograms).\n",
      "  warnings.warn(msg, FutureWarning)\n"
     ]
    },
    {
     "data": {
      "text/plain": [
       "<matplotlib.axes._subplots.AxesSubplot at 0x7fffc5de57d0>"
      ]
     },
     "execution_count": 27,
     "metadata": {},
     "output_type": "execute_result"
    },
    {
     "data": {
      "image/png": "[encoded data removed]",
      "text/plain": [
       "<Figure size 432x288 with 1 Axes>"
      ]
     },
     "metadata": {
      "needs_background": "light"
     },
     "output_type": "display_data"
    }
   ],
   "source": [
    "sns.distplot(dpicked[\"gly_holes_atm\"], bins=40)"
   ]
  },
  {
   "cell_type": "code",
   "execution_count": 28,
   "metadata": {},
   "outputs": [
    {
     "name": "stderr",
     "output_type": "stream",
     "text": [
      "/software/conda/envs/pyrosetta/lib/python3.7/site-packages/seaborn/distributions.py:2557: FutureWarning: `distplot` is a deprecated function and will be removed in a future version. Please adapt your code to use either `displot` (a figure-level function with similar flexibility) or `histplot` (an axes-level function for histograms).\n",
      "  warnings.warn(msg, FutureWarning)\n"
     ]
    },
    {
     "data": {
      "text/plain": [
       "<matplotlib.axes._subplots.AxesSubplot at 0x7fffc5cdd0d0>"
      ]
     },
     "execution_count": 28,
     "metadata": {},
     "output_type": "execute_result"
    },
    {
     "data": {
      "image/png": "[encoded data removed]",
      "text/plain": [
       "<Figure size 432x288 with 1 Axes>"
      ]
     },
     "metadata": {
      "needs_background": "light"
     },
     "output_type": "display_data"
    }
   ],
   "source": [
    "sns.distplot(dpicked[\"network_holes_atm\"], bins=40)"
   ]
  },
  {
   "cell_type": "code",
   "execution_count": 29,
   "metadata": {},
   "outputs": [
    {
     "name": "stderr",
     "output_type": "stream",
     "text": [
      "/software/conda/envs/pyrosetta/lib/python3.7/site-packages/seaborn/distributions.py:2557: FutureWarning: `distplot` is a deprecated function and will be removed in a future version. Please adapt your code to use either `displot` (a figure-level function with similar flexibility) or `histplot` (an axes-level function for histograms).\n",
      "  warnings.warn(msg, FutureWarning)\n"
     ]
    },
    {
     "data": {
      "text/plain": [
       "<matplotlib.axes._subplots.AxesSubplot at 0x7fffc5bba290>"
      ]
     },
     "execution_count": 29,
     "metadata": {},
     "output_type": "execute_result"
    },
    {
     "data": {
      "image/png": "[encoded data removed]",
      "text/plain": [
       "<Figure size 432x288 with 1 Axes>"
      ]
     },
     "metadata": {
      "needs_background": "light"
     },
     "output_type": "display_data"
    }
   ],
   "source": [
    "sns.distplot(dpicked[\"HBNet_Score_Y26\"], bins=40)"
   ]
  },
  {
   "cell_type": "code",
   "execution_count": 30,
   "metadata": {},
   "outputs": [
    {
     "name": "stderr",
     "output_type": "stream",
     "text": [
      "/software/conda/envs/pyrosetta/lib/python3.7/site-packages/seaborn/distributions.py:2557: FutureWarning: `distplot` is a deprecated function and will be removed in a future version. Please adapt your code to use either `displot` (a figure-level function with similar flexibility) or `histplot` (an axes-level function for histograms).\n",
      "  warnings.warn(msg, FutureWarning)\n"
     ]
    },
    {
     "data": {
      "text/plain": [
       "<matplotlib.axes._subplots.AxesSubplot at 0x7fffc5b34950>"
      ]
     },
     "execution_count": 30,
     "metadata": {},
     "output_type": "execute_result"
    },
    {
     "data": {
      "image/png": "[encoded data removed]",
      "text/plain": [
       "<Figure size 432x288 with 1 Axes>"
      ]
     },
     "metadata": {
      "needs_background": "light"
     },
     "output_type": "display_data"
    }
   ],
   "source": [
    "sns.distplot(dpicked[\"hbond_sc\"], bins=40)"
   ]
  },
  {
   "cell_type": "code",
   "execution_count": 31,
   "metadata": {},
   "outputs": [
    {
     "name": "stderr",
     "output_type": "stream",
     "text": [
      "/software/conda/envs/pyrosetta/lib/python3.7/site-packages/seaborn/distributions.py:2557: FutureWarning: `distplot` is a deprecated function and will be removed in a future version. Please adapt your code to use either `displot` (a figure-level function with similar flexibility) or `histplot` (an axes-level function for histograms).\n",
      "  warnings.warn(msg, FutureWarning)\n"
     ]
    },
    {
     "data": {
      "text/plain": [
       "<matplotlib.axes._subplots.AxesSubplot at 0x7fffc5a86390>"
      ]
     },
     "execution_count": 31,
     "metadata": {},
     "output_type": "execute_result"
    },
    {
     "data": {
      "image/png": "[encoded data removed]",
      "text/plain": [
       "<Figure size 432x288 with 1 Axes>"
      ]
     },
     "metadata": {
      "needs_background": "light"
     },
     "output_type": "display_data"
    }
   ],
   "source": [
    "sns.distplot(dpicked[\"omega\"], bins=40)"
   ]
  },
  {
   "cell_type": "code",
   "execution_count": 55,
   "metadata": {},
   "outputs": [
    {
     "name": "stderr",
     "output_type": "stream",
     "text": [
      "/software/conda/envs/pyrosetta/lib/python3.7/site-packages/seaborn/distributions.py:2557: FutureWarning: `distplot` is a deprecated function and will be removed in a future version. Please adapt your code to use either `displot` (a figure-level function with similar flexibility) or `histplot` (an axes-level function for histograms).\n",
      "  warnings.warn(msg, FutureWarning)\n"
     ]
    },
    {
     "data": {
      "text/plain": [
       "<matplotlib.axes._subplots.AxesSubplot at 0x7f75478fd390>"
      ]
     },
     "execution_count": 55,
     "metadata": {},
     "output_type": "execute_result"
    },
    {
     "data": {
      "image/png": "[encoded data removed]",
      "text/plain": [
       "<Figure size 432x288 with 1 Axes>"
      ]
     },
     "metadata": {
      "needs_background": "light"
     },
     "output_type": "display_data"
    }
   ],
   "source": [
    "sns.distplot(dpicked[\"hbond_lr_bb\"], bins=40)"
   ]
  },
  {
   "cell_type": "code",
   "execution_count": 56,
   "metadata": {},
   "outputs": [
    {
     "name": "stderr",
     "output_type": "stream",
     "text": [
      "/software/conda/envs/pyrosetta/lib/python3.7/site-packages/seaborn/distributions.py:2557: FutureWarning: `distplot` is a deprecated function and will be removed in a future version. Please adapt your code to use either `displot` (a figure-level function with similar flexibility) or `histplot` (an axes-level function for histograms).\n",
      "  warnings.warn(msg, FutureWarning)\n"
     ]
    },
    {
     "data": {
      "text/plain": [
       "<matplotlib.axes._subplots.AxesSubplot at 0x7f7547805090>"
      ]
     },
     "execution_count": 56,
     "metadata": {},
     "output_type": "execute_result"
    },
    {
     "data": {
      "image/png": "[encoded data removed]",
      "text/plain": [
       "<Figure size 432x288 with 1 Axes>"
      ]
     },
     "metadata": {
      "needs_background": "light"
     },
     "output_type": "display_data"
    }
   ],
   "source": [
    "sns.distplot(dpicked[\"rama_prepro\"], bins=40)"
   ]
  },
  {
   "cell_type": "code",
   "execution_count": 5,
   "metadata": {},
   "outputs": [
    {
     "name": "stderr",
     "output_type": "stream",
     "text": [
      "/software/conda/envs/pyrosetta/lib/python3.7/site-packages/seaborn/distributions.py:2557: FutureWarning: `distplot` is a deprecated function and will be removed in a future version. Please adapt your code to use either `displot` (a figure-level function with similar flexibility) or `histplot` (an axes-level function for histograms).\n",
      "  warnings.warn(msg, FutureWarning)\n"
     ]
    },
    {
     "data": {
      "text/plain": [
       "<matplotlib.axes._subplots.AxesSubplot at 0x7f7a50f2b590>"
      ]
     },
     "execution_count": 5,
     "metadata": {},
     "output_type": "execute_result"
    },
    {
     "data": {
      "image/png": "[encoded data removed]",
      "text/plain": [
       "<Figure size 432x288 with 1 Axes>"
      ]
     },
     "metadata": {
      "needs_background": "light"
     },
     "output_type": "display_data"
    }
   ],
   "source": [
    "sns.distplot(dpicked[\"p_aa_pp\"], bins=40)"
   ]
  },
  {
   "cell_type": "code",
   "execution_count": 32,
   "metadata": {},
   "outputs": [
    {
     "data": {
      "text/plain": [
       "array(['0_input_0069_0003_00010_0001_0002',\n",
       "       '0_input_0069_0003_00010_0001_0002_0005',\n",
       "       '0_input_0069_0003_0006_0004_0004', ...,\n",
       "       '9_input_0062_0004_00010_0003_0010_0007',\n",
       "       '9_input_0062_0004_00010_0003_0010_0010',\n",
       "       '9_input_0062_0004_0006_0004_0010_0007'], dtype=object)"
      ]
     },
     "execution_count": 32,
     "metadata": {},
     "output_type": "execute_result"
    }
   ],
   "source": [
    "dpicked.description.unique()"
   ]
  },
  {
   "cell_type": "code",
   "execution_count": 9,
   "metadata": {},
   "outputs": [
    {
     "data": {
      "text/html": [
       "<div>\n",
       "<style scoped>\n",
       "    .dataframe tbody tr th:only-of-type {\n",
       "        vertical-align: middle;\n",
       "    }\n",
       "\n",
       "    .dataframe tbody tr th {\n",
       "        vertical-align: top;\n",
       "    }\n",
       "\n",
       "    .dataframe thead th {\n",
       "        text-align: right;\n",
       "    }\n",
       "</style>\n",
       "<table border=\"1\" class=\"dataframe\">\n",
       "  <thead>\n",
       "    <tr style=\"text-align: right;\">\n",
       "      <th></th>\n",
       "      <th>description</th>\n",
       "      <th>dslf_fa13</th>\n",
       "      <th>fa_atr</th>\n",
       "      <th>fa_dun</th>\n",
       "      <th>fa_elec</th>\n",
       "      <th>fa_intra_rep</th>\n",
       "      <th>fa_intra_sol_xover4</th>\n",
       "      <th>fa_rep</th>\n",
       "      <th>fa_sol</th>\n",
       "      <th>gly_holes_atm</th>\n",
       "      <th>...</th>\n",
       "      <th>HBNet_Score</th>\n",
       "      <th>HBNet_saturation</th>\n",
       "      <th>n_hbonds</th>\n",
       "      <th>n_res_network</th>\n",
       "      <th>net_tyr10</th>\n",
       "      <th>net_tyr68</th>\n",
       "      <th>network</th>\n",
       "      <th>network_cst</th>\n",
       "      <th>tyrs</th>\n",
       "      <th>saturation</th>\n",
       "    </tr>\n",
       "  </thead>\n",
       "  <tbody>\n",
       "  </tbody>\n",
       "</table>\n",
       "<p>0 rows × 42 columns</p>\n",
       "</div>"
      ],
      "text/plain": [
       "Empty DataFrame\n",
       "Columns: [description, dslf_fa13, fa_atr, fa_dun, fa_elec, fa_intra_rep, fa_intra_sol_xover4, fa_rep, fa_sol, gly_holes_atm, gly_holes_res, hbnet, hbnet_tyr10, hbnet_tyr68, hbond_bb_sc, hbond_lr_bb, hbond_sc, hbond_sr_bb, lk_ball_wtd, n_hbnet, network_holes_atm, network_holes_res, omega, p_aa_pp, pro_close, rama_prepro, ref, sasa, sc_heavy_unsat, total, yhh_planarity, HBNet_NumUnsatHpol, HBNet_Score, HBNet_saturation, n_hbonds, n_res_network, net_tyr10, net_tyr68, network, network_cst, tyrs, saturation]\n",
       "Index: []\n",
       "\n",
       "[0 rows x 42 columns]"
      ]
     },
     "execution_count": 9,
     "metadata": {},
     "output_type": "execute_result"
    }
   ],
   "source": [
    "dpicked.loc[dpicked[\"description\"] == \"33__input_0053_0005_1_0002_0007_0005\"]"
   ]
  },
  {
   "cell_type": "code",
   "execution_count": 35,
   "metadata": {},
   "outputs": [
    {
     "name": "stderr",
     "output_type": "stream",
     "text": [
      "/software/conda/envs/pyrosetta/lib/python3.7/site-packages/seaborn/_decorators.py:43: FutureWarning: Pass the following variable as a keyword arg: x. From version 0.12, the only valid positional argument will be `data`, and passing other arguments without an explicit keyword will result in an error or misinterpretation.\n",
      "  FutureWarning\n"
     ]
    },
    {
     "data": {
      "text/plain": [
       "<matplotlib.axes._subplots.AxesSubplot at 0x7fffc58d67d0>"
      ]
     },
     "execution_count": 35,
     "metadata": {},
     "output_type": "execute_result"
    },
    {
     "data": {
      "image/png": "[encoded data removed]",
      "text/plain": [
       "<Figure size 432x288 with 1 Axes>"
      ]
     },
     "metadata": {
      "needs_background": "light"
     },
     "output_type": "display_data"
    }
   ],
   "source": [
    "sns.countplot(dpicked[\"sc_heavy_unsat\"])"
   ]
  },
  {
   "cell_type": "code",
   "execution_count": 60,
   "metadata": {},
   "outputs": [],
   "source": [
    "from shutil import copyfile\n",
    "\n",
    "for model in dpicked.description:\n",
    "    pdb = \"filter_\" + model + \"_0001.pdb\"\n",
    "    final_model = model + \".pdb\"\n",
    "    source = \"network_filter_fasol09/\" + pdb\n",
    "    target = \"round3_fasol09_surf/\" + final_model\n",
    "    copyfile(source, target)"
   ]
  },
  {
   "cell_type": "code",
   "execution_count": 7,
   "metadata": {},
   "outputs": [
    {
     "name": "stdout",
     "output_type": "stream",
     "text": [
      "0        # 0_input_0069_0003_00010_0001_0002_0001_nativ...\n",
      "5        # 0_input_0069_0003_00010_0001_0002_0005_0001_...\n",
      "11       # 0_input_0069_0003_0006_0004_0004_0001_native...\n",
      "13       # 0_input_0069_0003_0006_0004_0004_0002_0001_n...\n",
      "14       # 0_input_0069_0003_0006_0004_0004_0003_0001_n...\n",
      "                               ...                        \n",
      "10789    # 9_input_0062_0004_00010_0003_0010_0005_0001_...\n",
      "10790    # 9_input_0062_0004_00010_0003_0010_0006_0001_...\n",
      "10791    # 9_input_0062_0004_00010_0003_0010_0007_0001_...\n",
      "10794    # 9_input_0062_0004_00010_0003_0010_0010_0001_...\n",
      "10812    # 9_input_0062_0004_0006_0004_0010_0007_0001_n...\n",
      "Name: network_cst_Y114, Length: 1795, dtype: object\n"
     ]
    }
   ],
   "source": [
    "print(dpicked.network_cst_Y114)"
   ]
  },
  {
   "cell_type": "code",
   "execution_count": 10,
   "metadata": {},
   "outputs": [
    {
     "name": "stdout",
     "output_type": "stream",
     "text": [
      "                                  description  dslf_fa13   fa_atr   fa_dun  \\\n",
      "0           0_input_0069_0003_00010_0001_0002        0.0 -915.852  216.578   \n",
      "5      0_input_0069_0003_00010_0001_0002_0005        0.0 -949.613  230.890   \n",
      "11           0_input_0069_0003_0006_0004_0004        0.0 -935.577  215.361   \n",
      "13      0_input_0069_0003_0006_0004_0004_0002        0.0 -966.009  209.774   \n",
      "14      0_input_0069_0003_0006_0004_0004_0003        0.0 -963.705  214.547   \n",
      "...                                       ...        ...      ...      ...   \n",
      "10789  9_input_0062_0004_00010_0003_0010_0005        0.0 -969.893  208.239   \n",
      "10790  9_input_0062_0004_00010_0003_0010_0006        0.0 -997.079  212.627   \n",
      "10791  9_input_0062_0004_00010_0003_0010_0007        0.0 -988.758  223.673   \n",
      "10794  9_input_0062_0004_00010_0003_0010_0010        0.0 -982.443  207.308   \n",
      "10812   9_input_0062_0004_0006_0004_0010_0007        0.0 -966.350  220.067   \n",
      "\n",
      "       fa_elec  fa_intra_rep  fa_intra_sol_xover4   fa_rep   fa_sol  \\\n",
      "0     -464.330       2.03531              29.8227  113.062  659.109   \n",
      "5     -515.646       2.08200              31.4942  130.936  707.616   \n",
      "11    -453.000       2.05300              29.4338  116.698  647.471   \n",
      "13    -490.562       2.09023              31.4492  136.850  688.811   \n",
      "14    -489.109       2.06527              30.4836  143.608  680.589   \n",
      "...        ...           ...                  ...      ...      ...   \n",
      "10789 -480.005       2.07177              29.8680  138.005  677.834   \n",
      "10790 -469.913       2.20712              29.9307  143.385  661.010   \n",
      "10791 -487.754       2.16521              30.9119  142.022  687.521   \n",
      "10794 -471.055       2.11499              30.5711  144.747  657.192   \n",
      "10812 -499.105       2.08905              30.8799  140.295  699.334   \n",
      "\n",
      "       gly_holes_atm  ...  n_res_network_Y114 n_res_network_Y26  \\\n",
      "0           2.057050  ...                 2.0               2.0   \n",
      "5           2.400840  ...                 2.0               2.0   \n",
      "11          1.205260  ...                 2.0               2.0   \n",
      "13          1.489130  ...                 2.0               2.0   \n",
      "14          0.478916  ...                 2.0               2.0   \n",
      "...              ...  ...                 ...               ...   \n",
      "10789       0.941638  ...                 3.0               1.0   \n",
      "10790       1.492380  ...                 3.0               1.0   \n",
      "10791       1.473730  ...                 3.0               1.0   \n",
      "10794       0.923698  ...                 3.0               1.0   \n",
      "10812       0.327810  ...                 2.0               1.0   \n",
      "\n",
      "        network_Y114  network_Y26  \\\n",
      "0          [84, 114]     [12, 26]   \n",
      "5          [84, 114]     [12, 26]   \n",
      "11         [84, 114]      [8, 26]   \n",
      "13         [84, 114]      [8, 26]   \n",
      "14         [84, 114]      [8, 26]   \n",
      "...              ...          ...   \n",
      "10789  [64, 84, 114]         [26]   \n",
      "10790  [64, 84, 114]         [26]   \n",
      "10791  [64, 84, 114]         [26]   \n",
      "10794  [64, 84, 114]         [26]   \n",
      "10812      [84, 114]         [26]   \n",
      "\n",
      "                                        network_cst_Y114  \\\n",
      "0      # 0_input_0069_0003_00010_0001_0002_0001_nativ...   \n",
      "5      # 0_input_0069_0003_00010_0001_0002_0005_0001_...   \n",
      "11     # 0_input_0069_0003_0006_0004_0004_0001_native...   \n",
      "13     # 0_input_0069_0003_0006_0004_0004_0002_0001_n...   \n",
      "14     # 0_input_0069_0003_0006_0004_0004_0003_0001_n...   \n",
      "...                                                  ...   \n",
      "10789  # 9_input_0062_0004_00010_0003_0010_0005_0001_...   \n",
      "10790  # 9_input_0062_0004_00010_0003_0010_0006_0001_...   \n",
      "10791  # 9_input_0062_0004_00010_0003_0010_0007_0001_...   \n",
      "10794  # 9_input_0062_0004_00010_0003_0010_0010_0001_...   \n",
      "10812  # 9_input_0062_0004_0006_0004_0010_0007_0001_n...   \n",
      "\n",
      "                                         network_cst_Y26  saturation_Y26  \\\n",
      "0      # 0_input_0069_0003_00010_0001_0002_0001_nativ...             1.5   \n",
      "5      # 0_input_0069_0003_00010_0001_0002_0005_0001_...             1.5   \n",
      "11     # 0_input_0069_0003_0006_0004_0004_0001_native...             2.0   \n",
      "13     # 0_input_0069_0003_0006_0004_0004_0002_0001_n...             2.0   \n",
      "14     # 0_input_0069_0003_0006_0004_0004_0003_0001_n...             1.5   \n",
      "...                                                  ...             ...   \n",
      "10789  # 9_input_0062_0004_00010_0003_0010_0005_0001_...             3.0   \n",
      "10790  # 9_input_0062_0004_00010_0003_0010_0006_0001_...             3.0   \n",
      "10791  # 9_input_0062_0004_00010_0003_0010_0007_0001_...             3.0   \n",
      "10794  # 9_input_0062_0004_00010_0003_0010_0010_0001_...             3.0   \n",
      "10812  # 9_input_0062_0004_0006_0004_0010_0007_0001_n...             5.0   \n",
      "\n",
      "       saturation_Y114                                  network_name_Y114  \\\n",
      "0                  2.0  [,  0_input_0069_0003_00010_0001_0002_0001_nat...   \n",
      "5                  2.0  [,  0_input_0069_0003_00010_0001_0002_0005_000...   \n",
      "11                 1.5  [,  0_input_0069_0003_0006_0004_0004_0001_nati...   \n",
      "13                 2.5  [,  0_input_0069_0003_0006_0004_0004_0002_0001...   \n",
      "14                 2.0  [,  0_input_0069_0003_0006_0004_0004_0003_0001...   \n",
      "...                ...                                                ...   \n",
      "10789              1.0  [,  9_input_0062_0004_00010_0003_0010_0005_000...   \n",
      "10790              1.0  [,  9_input_0062_0004_00010_0003_0010_0006_000...   \n",
      "10791              1.0  [,  9_input_0062_0004_00010_0003_0010_0007_000...   \n",
      "10794              1.0  [,  9_input_0062_0004_00010_0003_0010_0010_000...   \n",
      "10812              1.5  [,  9_input_0062_0004_0006_0004_0010_0007_0001...   \n",
      "\n",
      "                                        network_name_Y26  \n",
      "0      [,  0_input_0069_0003_00010_0001_0002_0001_nat...  \n",
      "5      [,  0_input_0069_0003_00010_0001_0002_0005_000...  \n",
      "11     [,  0_input_0069_0003_0006_0004_0004_0001_nati...  \n",
      "13     [,  0_input_0069_0003_0006_0004_0004_0002_0001...  \n",
      "14     [,  0_input_0069_0003_0006_0004_0004_0003_0001...  \n",
      "...                                                  ...  \n",
      "10789  [,  9_input_0062_0004_00010_0003_0010_0005_000...  \n",
      "10790  [,  9_input_0062_0004_00010_0003_0010_0006_000...  \n",
      "10791  [,  9_input_0062_0004_00010_0003_0010_0007_000...  \n",
      "10794  [,  9_input_0062_0004_00010_0003_0010_0010_000...  \n",
      "10812  [,  9_input_0062_0004_0006_0004_0010_0007_0001...  \n",
      "\n",
      "[1795 rows x 49 columns]\n"
     ]
    },
    {
     "name": "stderr",
     "output_type": "stream",
     "text": [
      "/software/conda/envs/pyrosetta/lib/python3.7/site-packages/ipykernel_launcher.py:1: SettingWithCopyWarning: \n",
      "A value is trying to be set on a copy of a slice from a DataFrame.\n",
      "Try using .loc[row_indexer,col_indexer] = value instead\n",
      "\n",
      "See the caveats in the documentation: https://pandas.pydata.org/pandas-docs/stable/user_guide/indexing.html#returning-a-view-versus-a-copy\n",
      "  \"\"\"Entry point for launching an IPython kernel.\n",
      "/software/conda/envs/pyrosetta/lib/python3.7/site-packages/ipykernel_launcher.py:2: SettingWithCopyWarning: \n",
      "A value is trying to be set on a copy of a slice from a DataFrame.\n",
      "Try using .loc[row_indexer,col_indexer] = value instead\n",
      "\n",
      "See the caveats in the documentation: https://pandas.pydata.org/pandas-docs/stable/user_guide/indexing.html#returning-a-view-versus-a-copy\n",
      "  \n"
     ]
    }
   ],
   "source": [
    "dpicked[\"network_name_Y114\"] = dpicked[\"network_cst_Y114\"].str.split(\"#\")\n",
    "dpicked[\"network_name_Y26\"] = dpicked[\"network_cst_Y26\"].str.split(\"#\")\n",
    "print(dpicked)"
   ]
  },
  {
   "cell_type": "code",
   "execution_count": null,
   "metadata": {},
   "outputs": [],
   "source": [
    "for index, row in dpicked.iterrows():\n",
    "    network_name = row[\"network_name\"][1].strip()\n",
    "    network_name = network_name.replace(\"native_network\", \"nativenetwork\")\n",
    "    network_name = network_name.replace(\".cst\", \".pdb\")\n",
    "    directory = row[\"description\"]\n",
    "    print(network_name)\n",
    "    source = \"network_filter/\" + directory + \"/\" + network_name\n",
    "    target = \"individual_networks/\" + network_name\n",
    "    copyfile(source, target)"
   ]
  },
  {
   "cell_type": "code",
   "execution_count": 14,
   "metadata": {},
   "outputs": [],
   "source": [
    "for index, row in dpicked.iterrows():\n",
    "    cst_file = \"round3_fasol09_surf/\" + row.description + \".cst\"\n",
    "    with open(cst_file, \"w\") as out_cst:\n",
    "        out_cst.write(row.network_cst_Y114)\n",
    "        out_cst.write(row.network_cst_Y26)"
   ]
  },
  {
   "cell_type": "code",
   "execution_count": 12,
   "metadata": {},
   "outputs": [],
   "source": [
    "dpicked.to_pickle('picked_networks.pickle')"
   ]
  },
  {
   "cell_type": "code",
   "execution_count": null,
   "metadata": {},
   "outputs": [],
   "source": []
  }
 ],
 "metadata": {
  "kernelspec": {
   "display_name": "PyRosetta (Python 3.7)",
   "language": "python",
   "name": "pyrosetta"
  },
  "language_info": {
   "codemirror_mode": {
    "name": "ipython",
    "version": 3
   },
   "file_extension": ".py",
   "mimetype": "text/x-python",
   "name": "python",
   "nbconvert_exporter": "python",
   "pygments_lexer": "ipython3",
   "version": "3.7.7"
  }
 },
 "nbformat": 4,
 "nbformat_minor": 4
}
